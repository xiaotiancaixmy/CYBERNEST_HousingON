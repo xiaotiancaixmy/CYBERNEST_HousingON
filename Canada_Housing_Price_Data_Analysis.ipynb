{
 "cells": [
  {
   "cell_type": "code",
   "execution_count": null,
   "id": "449b2ef9-f524-4db1-9aa9-ab6b56379812",
   "metadata": {},
   "outputs": [],
   "source": [
    "# Initial imports\n",
    "import os\n",
    "import requests\n",
    "import pandas as pd\n",
    "import numpy as np\n",
    "#from dotenv import load_dotenv\n",
    "import hvplot.pandas\n",
    "from pathlib import Path\n",
    "import seaborn as sns\n",
    "from datetime import datetime\n",
    "\n",
    "import matplotlib.pyplot as plt\n",
    "%matplotlib inline\n",
    "\n",
    "import warnings\n",
    "warnings.filterwarnings(\"ignore\")"
   ]
  },
  {
   "cell_type": "markdown",
   "id": "ce293c08-a83b-4630-a396-4a2eaf0ed1cd",
   "metadata": {},
   "source": [
    "## Reading our data into dataFrames\n",
    "Data includes:\n",
    " * Latitude and Longitude of all Canada Provinces~ from [url](https://www.latlong.net/category/provinces-40-60.html).\n",
    " * Price range for houses in different provinces of Canada from excel file and avg household income per province using csv file.\n",
    " * Stock Prices data for *RioCan(REI-UN.TO)* Real Estate Investment Trust  & *Tricon Residential(TCN.TO)* a Canadian real estate company "
   ]
  },
  {
   "cell_type": "code",
   "execution_count": null,
   "id": "9feb4bd5-f82f-41bd-b045-43bb3c8c69e0",
   "metadata": {},
   "outputs": [],
   "source": [
    "#get the latitude and longitude valuse for Canada provinces using url\n",
    "lat_lon_df = pd.read_html(\"https://www.latlong.net/category/provinces-40-60.html\")"
   ]
  },
  {
   "cell_type": "code",
   "execution_count": null,
   "id": "6f560e88-cebb-4b77-8b7b-86193db75fa0",
   "metadata": {},
   "outputs": [],
   "source": [
    "#converting our list into dataFrame\n",
    "lat_lon_df = pd.DataFrame(np.reshape(lat_lon_df, (10,3)), columns = ['Province', 'Latitude', 'Longitude'])\n",
    "#remove the unwanted string from our columns\n",
    "lat_lon_df['Province'] = lat_lon_df['Province'].str.replace(', Canada', '')\n",
    "#display our latitude & longitude dataFrame\n",
    "lat_lon_df"
   ]
  },
  {
   "cell_type": "code",
   "execution_count": null,
   "id": "8f159ed5-e403-4e7d-abaf-aeee04756324",
   "metadata": {},
   "outputs": [],
   "source": [
    "# Using the read_csv function and Path module \n",
    "# create a absorbed_unit_df DataFrame by importing the \n",
    "#'absorbed-units-price-range-canada-provinces-for-all-dwelling-types-2019-2022-en.xlsx file' from the Resources folder\n",
    "absorbed_unit_df = pd.read_excel(Path(\"\"\"Resources/absorbed-units-price-range-canada-provinces-for-all-dwelling-types-2019-2022-en.xlsx\"\"\"), \n",
    "                                header = 1,\n",
    "                                sheet_name =None)\n",
    "\n",
    "#create dataFrame and import average household income for each province across years data\n",
    "avg_income_df = pd.read_csv(Path('Resources/avg_household_income_canada.csv'))\n",
    "#create dataFrame and import RioCan and Tricon Residential stock data\n",
    "rei_df = pd.read_csv(Path('Resources/REI.UN.csv'))\n",
    "tcn_df = pd.read_csv(Path('Resources/TCN.TO.csv'))"
   ]
  },
  {
   "cell_type": "code",
   "execution_count": null,
   "id": "ac03de03-c176-49dd-ae65-0e74001039b8",
   "metadata": {},
   "outputs": [],
   "source": [
    "#function to fethch the Province names from dictionary of DataFrames-absorbed_unit_df \n",
    "def getProvince(absorbed_unit_df):\n",
    "    province = []\n",
    "    for key in absorbed_unit_df.keys():\n",
    "        province.append(key)\n",
    "    return province"
   ]
  },
  {
   "cell_type": "code",
   "execution_count": null,
   "id": "6eedfbcc-654e-4f3e-bb41-29cc3b5d21f4",
   "metadata": {},
   "outputs": [],
   "source": [
    "canada_housing_data_df = pd.DataFrame()\n",
    "for i in getProvince(absorbed_unit_df):\n",
    "    #absorbed_unit_df[i].set_index(['Year','Province'], inplace = True)\n",
    "    canada_housing_data_df = pd.concat([canada_housing_data_df,absorbed_unit_df[i]], axis = 0)\n",
    "\n",
    "canada_housing_data_df.set_index('Year', inplace = True)\n",
    "display(canada_housing_data_df.head())\n",
    "display(canada_housing_data_df.tail())"
   ]
  },
  {
   "cell_type": "code",
   "execution_count": null,
   "id": "47a52a37-f271-4b2b-af31-8bacaece395f",
   "metadata": {},
   "outputs": [],
   "source": [
    "#relevant years for analysis\n",
    "np.unique(canada_housing_data_df.index)"
   ]
  },
  {
   "cell_type": "code",
   "execution_count": null,
   "id": "28285c0f-d77e-40b2-8311-593ece7c6355",
   "metadata": {},
   "outputs": [],
   "source": [
    "#Fill NaN valuse with zero\n",
    "df1=canada_housing_data_df.fillna(value = 0)"
   ]
  },
  {
   "cell_type": "code",
   "execution_count": null,
   "id": "aacca345-0e23-4cc5-8178-285a9baef409",
   "metadata": {},
   "outputs": [],
   "source": [
    "#Drop rows where all Dwelling Type Columns{ Absorbed Single, Semi, row & other} contain zeros\n",
    "canada_housing_data_df = canada_housing_data_df.loc[\n",
    "    (canada_housing_data_df[['Absorbed - Single','Absorbed - Semi','Absorbed - Row','Absorbed - Apartment and other']] != 0)\n",
    "    .any(axis = 1)\n",
    "]\n",
    "\n",
    "#find the average price range and drop columns Price Range low($) & Price Range high($)\n",
    "canada_housing_data_df['Avg of Price Range']= canada_housing_data_df[['Price Range low($)', 'Price Range high($)']].mean(axis=1)\n",
    "canada_housing_data_df.drop(['Price Range low($)', 'Price Range high($)'], axis = 1, inplace = True)\n",
    "\n",
    "\n",
    "#disply sample data in the dataFrame\n",
    "display(canada_housing_data_df.head())\n",
    "display(canada_housing_data_df.tail())"
   ]
  },
  {
   "cell_type": "code",
   "execution_count": null,
   "id": "3a486ceb-1a3e-4281-96e6-7b06c15f2d5e",
   "metadata": {},
   "outputs": [],
   "source": [
    "'''\n",
    "#merge lat_lon_df & canada_housing_data_df to get the lat & long valuse in our dataFrame\n",
    "canada_housing_data_df = canada_housing_data_df.merge(lat_lon_df, on = 'Province', how = 'inner' )\n",
    "\n",
    "#merge avg_income_df & canada_housing_data_df to get the avg income valuse in our final dataFrame\n",
    "canada_housing_data_df = canada_housing_data_df.merge(avg_income_df, on = 'Province', how = 'inner' )\n",
    "'''"
   ]
  },
  {
   "cell_type": "code",
   "execution_count": null,
   "id": "14fbb0e7-6876-4bf4-89b6-92bdd537899f",
   "metadata": {},
   "outputs": [],
   "source": [
    "#reorganize columns in canada_housing_data_df\n",
    "canada_housing_data_df=canada_housing_data_df.reindex(sorted(canada_housing_data_df.columns, reverse = True), axis=1)"
   ]
  },
  {
   "cell_type": "markdown",
   "id": "7a477b81-6818-4f77-bbe0-9433f45fbf23",
   "metadata": {},
   "source": [
    "Questions:\n",
    "\n",
    "Q1.trend across the year--> Province wise\n",
    "\n",
    "Q2.which province suffered major impact-->  benefitted or sufered loss\n",
    "\n",
    "Q3.most units sold and min units sold --> specific province and Year. --> the price range\n",
    "\n",
    "Relation between inflation rate, avg income, unit sold and avg house price\n",
    "(2-d at a time)\n",
    "\n",
    "Q4.stock correlation with housing price in Canada housing price in Canada\n",
    "\n",
    "Q5. Market Demand by Price Range: Which price range has the most absorbed units, indicating the highest demand in the market? How does this vary across different provinces?\n",
    "\n",
    "Q6. Affordability Analysis: Based on the median household income in each province, which price ranges are realistically affordable to most families?\n",
    "\n",
    "Q7. Income Requirements for Home Ownership: Based on the absorbed units’ price range in each province, what is the estimated annual income required to afford housing? How does this compare across provinces, and how does it align with the actual median annual incomes in those provinces?"
   ]
  },
  {
   "cell_type": "code",
   "execution_count": null,
   "id": "3cbd89c1-11d0-4766-a066-9419fd629c6b",
   "metadata": {},
   "outputs": [],
   "source": [
    "# Rename the columns\n",
    "new_column_names = {\n",
    "    'Absorbed - Single': 'Single',\n",
    "    'Absorbed - Semi': 'Semi',\n",
    "    'Absorbed - Row': 'Row',\n",
    "    'Absorbed - Apartment and other': 'Apartment and other',\n",
    "}\n",
    "\n",
    "canada_housing_data_df = canada_housing_data_df.rename(columns=new_column_names)\n",
    "canada_housing_data_df.tail(5)"
   ]
  },
  {
   "cell_type": "code",
   "execution_count": null,
   "id": "dbf5af73-2283-480e-9540-3bbb90392738",
   "metadata": {},
   "outputs": [],
   "source": [
    "#calculate the total units sold in each provinces per year.\n",
    "canada_housing_data_df['Total Absorbed Units']=canada_housing_data_df[[\"Single\",\"Semi\",\"Row\",\"Apartment and other\"]].sum(axis=1)\n",
    "sum_of_sales=canada_housing_data_df.groupby(['Province','Year'])['Total Absorbed Units'].sum()\n",
    "#sum_of_sales.hvplot.bar()\n",
    "\n",
    "#Comment from ZHU:\n",
    "#The purpose of this secetion of code is to show the overall volume in housing market.\n",
    "#I dont think this graph is infomative enough. since the original data set is Absorbed Units, which is the newly built properties.\n",
    "#Some provinces may have higher volume in terms of pre-owned houses. There may be provinces that don't build as many new houses."
   ]
  },
  {
   "cell_type": "markdown",
   "id": "84eb495f-9b1c-439d-9514-4dd0b4294894",
   "metadata": {},
   "source": [
    "weighted price for single house =\n",
    "\n",
    "(# of unit from 1st price range in 2019/total unit in 2019) * midpoint price of 1st price range +\n",
    "\n",
    "(# of unit from 2nd price range in 2019/total unit in 2019) * midpoint price of 2nd price range +\n",
    "\n",
    "..."
   ]
  },
  {
   "cell_type": "code",
   "execution_count": null,
   "id": "04b591e2-6ac4-417f-996e-d197a7fc1029",
   "metadata": {},
   "outputs": [],
   "source": [
    "# Define dwelling types\n",
    "dwelling_types = ['Single', 'Semi', 'Row', 'Apartment and other']\n",
    "\n",
    "# Initialize an empty DataFrame\n",
    "housing_price_df = pd.DataFrame()\n",
    "\n",
    "# For Loop for each dwelling type\n",
    "for dwelling_type in dwelling_types:\n",
    "    # Calculate weighted price for each dwelling type\n",
    "    canada_housing_data_df[f'weighted_price_{dwelling_type}'] = canada_housing_data_df[f'{dwelling_type}'] * canada_housing_data_df['Avg of Price Range']\n",
    "    \n",
    "    # Group by Province and Year and sum up the weighted price\n",
    "    weighted_price_grouped = canada_housing_data_df.groupby(['Province', 'Year'])[f'weighted_price_{dwelling_type}'].sum()\n",
    "\n",
    "    # Group by Province and Year and sum up the absorbed units\n",
    "    absorbed_units_grouped = canada_housing_data_df.groupby(['Province', 'Year'])[f'{dwelling_type}'].sum()\n",
    "\n",
    "    # Merge the two series into a DataFrame\n",
    "    merged = pd.DataFrame(weighted_price_grouped)\n",
    "    merged[f'{dwelling_type}'] = absorbed_units_grouped\n",
    "\n",
    "    # Calculate the weighted average price\n",
    "    merged[f'Weighted_Avg_Price_{dwelling_type}'] = merged[f'weighted_price_{dwelling_type}'] / merged[f'{dwelling_type}']\n",
    "\n",
    "    # Drop the intermediate columns\n",
    "    merged.drop([f'weighted_price_{dwelling_type}', f'{dwelling_type}'], axis=1, inplace=True)\n",
    "\n",
    "    # Merge the result into the housing_price_df DataFrame\n",
    "    if housing_price_df.empty:\n",
    "        housing_price_df = merged\n",
    "    else:\n",
    "        housing_price_df = pd.merge(housing_price_df, merged, on=['Province', 'Year'])\n",
    "\n",
    "housing_price_df = housing_price_df.reset_index()"
   ]
  },
  {
   "cell_type": "code",
   "execution_count": null,
   "id": "220617cb-3b4f-4f51-825d-d5c1a14d8bb2",
   "metadata": {},
   "outputs": [],
   "source": [
    "housing_price_df.tail()"
   ]
  },
  {
   "cell_type": "code",
   "execution_count": null,
   "id": "90762498-de21-4615-8aa6-be13bf66e770",
   "metadata": {},
   "outputs": [],
   "source": [
    "# Define a function to plot trend for each dwelling type\n",
    "def plot_trend(dwelling_type):   \n",
    "    # The melt function is used to convert the DataFrame from wide format to long format.\n",
    "    plot_df = pd.melt(housing_price_df, id_vars=['Year', 'Province'], value_vars=[f'Weighted_Avg_Price_{dwelling_type}'])\n",
    "    \n",
    "    # Create a line plot of the WAP over years for each province using the hvplot library\n",
    "    trend_plot=plot_df.hvplot.line('Year', 'value', by='Province',width=800).opts(yformatter='%.0f',title=f'Price trend for {dwelling_type}')\n",
    "    \n",
    "    return trend_plot"
   ]
  },
  {
   "cell_type": "code",
   "execution_count": null,
   "id": "68a2b684-20c5-496f-903a-8b8dab64cff1",
   "metadata": {},
   "outputs": [],
   "source": [
    "# Reset the index of the housing_price_df dataframe\n",
    "housing_price_df.reset_index(inplace=True)\n",
    "\n",
    "#Plot Price Trend for all the dwelling type\n",
    "plot_trend('Single')+plot_trend('Semi')+plot_trend('Row')+plot_trend('Apartment and other')"
   ]
  },
  {
   "cell_type": "code",
   "execution_count": null,
   "id": "07c6285b-2182-452f-b4ad-e59980d80699",
   "metadata": {},
   "outputs": [],
   "source": [
    "#Question2\n",
    "#we are using Single house price as reference for return on housing market. \n",
    "return_house_df=housing_price_df[['Year', 'Province','Weighted_Avg_Price_Single']].copy()\n",
    "return_house_df.set_index(['Year', 'Province'], inplace=True)\n",
    "return_house_df['Annual Return %']=return_house_df.groupby('Province')['Weighted_Avg_Price_Single'].pct_change()\n",
    "return_house_df['Annual Return %']=return_house_df['Annual Return %']*100\n",
    "\n",
    "return_house_df.tail()"
   ]
  },
  {
   "cell_type": "code",
   "execution_count": null,
   "id": "846c5bcf-cce6-4b45-adcc-a3c4d2f622cf",
   "metadata": {},
   "outputs": [],
   "source": [
    "CGR = ((return_house_df.loc[2022]['Weighted_Avg_Price_Single'] / return_house_df.loc[2019]['Weighted_Avg_Price_Single']) - 1)*100\n",
    "CGR_df = pd.DataFrame(CGR).rename(columns={\"Weighted_Avg_Price_Single\": \"Cumulative Return %\"})\n",
    "CGR_df.hvplot.bar(rot=30).opts(title=\"Cumulative growth for each province in the past 4 years\")"
   ]
  },
  {
   "cell_type": "code",
   "execution_count": null,
   "id": "e9e935dc-0bd8-4802-b99a-8d48b724795b",
   "metadata": {},
   "outputs": [],
   "source": [
    "return_house_df['Annual Return %'].dropna().hvplot.bar(groupby='Year',rot=30,height=400)"
   ]
  },
  {
   "cell_type": "code",
   "execution_count": null,
   "id": "2cdad34c-6608-41f2-9803-099a92e6713d",
   "metadata": {},
   "outputs": [],
   "source": [
    "#question3\n",
    "#most units sold and min units sold --> specific province and Year. --> the price range\n",
    "\n"
   ]
  },
  {
   "cell_type": "code",
   "execution_count": null,
   "id": "68d50792-1181-4739-a67f-327252d1499b",
   "metadata": {},
   "outputs": [],
   "source": [
    "#question4\n",
    "\n",
    "\n",
    "#correlation = rei_df_yearly['Return'].corr(return_house_df['Annual Return %'])\n"
   ]
  },
  {
   "cell_type": "code",
   "execution_count": null,
   "id": "4877a2d7-c0f3-42e2-b46b-8d4b741c1eaf",
   "metadata": {},
   "outputs": [],
   "source": []
  },
  {
   "cell_type": "code",
   "execution_count": null,
   "id": "6ce94acb-ad50-461d-a924-70fa358c1585",
   "metadata": {},
   "outputs": [],
   "source": []
  }
 ],
 "metadata": {
  "kernelspec": {
   "display_name": "Python 3 (ipykernel)",
   "language": "python",
   "name": "python3"
  },
  "language_info": {
   "codemirror_mode": {
    "name": "ipython",
    "version": 3
   },
   "file_extension": ".py",
   "mimetype": "text/x-python",
   "name": "python",
   "nbconvert_exporter": "python",
   "pygments_lexer": "ipython3",
   "version": "3.9.13"
  }
 },
 "nbformat": 4,
 "nbformat_minor": 5
}
