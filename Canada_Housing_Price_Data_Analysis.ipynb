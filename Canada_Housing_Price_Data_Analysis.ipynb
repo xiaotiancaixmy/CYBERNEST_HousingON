{
 "cells": [
  {
   "cell_type": "code",
   "execution_count": null,
   "id": "449b2ef9-f524-4db1-9aa9-ab6b56379812",
   "metadata": {},
   "outputs": [],
   "source": [
    "# Initial imports\n",
    "import os\n",
    "import requests\n",
    "import pandas as pd\n",
    "import numpy as np\n",
    "#from dotenv import load_dotenv\n",
    "import hvplot.pandas\n",
    "from pathlib import Path\n",
    "import seaborn as sns\n",
    "from datetime import datetime\n",
    "import seaborn as sns\n",
    "import matplotlib.pyplot as plt\n",
    "%matplotlib inline\n",
    "\n",
    "import warnings\n",
    "warnings.filterwarnings(\"ignore\")"
   ]
  },
  {
   "cell_type": "markdown",
   "id": "ce293c08-a83b-4630-a396-4a2eaf0ed1cd",
   "metadata": {},
   "source": [
    "## Reading our data into dataFrames\n",
    "Data includes:\n",
    " * Latitude and Longitude of all Canada Provinces~ from [url](https://www.latlong.net/category/provinces-40-60.html).\n",
    " * Price range for houses in different provinces of Canada from excel file and avg household income per province using csv file.\n",
    " * Stock Prices data for *RioCan(REI-UN.TO)* Real Estate Investment Trust  & *Tricon Residential(TCN.TO)* a Canadian real estate company "
   ]
  },
  {
   "cell_type": "code",
   "execution_count": null,
   "id": "9feb4bd5-f82f-41bd-b045-43bb3c8c69e0",
   "metadata": {},
   "outputs": [],
   "source": [
    "#get the latitude and longitude valuse for Canada provinces using url\n",
    "lat_lon_df = pd.read_html(\"https://www.latlong.net/category/provinces-40-60.html\")"
   ]
  },
  {
   "cell_type": "code",
   "execution_count": null,
   "id": "6f560e88-cebb-4b77-8b7b-86193db75fa0",
   "metadata": {},
   "outputs": [],
   "source": [
    "#converting our list into dataFrame\n",
    "lat_lon_df = pd.DataFrame(np.reshape(lat_lon_df, (10,3)), columns = ['Province', 'Latitude', 'Longitude'])\n",
    "#remove the unwanted string from our columns\n",
    "lat_lon_df['Province'] = lat_lon_df['Province'].str.replace(', Canada', '')\n",
    "#display our latitude & longitude dataFrame\n",
    "lat_lon_df"
   ]
  },
  {
   "cell_type": "code",
   "execution_count": null,
   "id": "8f159ed5-e403-4e7d-abaf-aeee04756324",
   "metadata": {},
   "outputs": [],
   "source": [
    "# Using the read_csv function and Path module \n",
    "# create a absorbed_unit_df DataFrame by importing the \n",
    "#'absorbed-units-price-range-canada-provinces-for-all-dwelling-types-2019-2022-en.xlsx file' from the Resources folder\n",
    "absorbed_unit_df = pd.read_excel(Path(\"\"\"Resources/absorbed-units-price-range-canada-provinces-for-all-dwelling-types-2019-2022-en.xlsx\"\"\"), \n",
    "                                header = 1,\n",
    "                                sheet_name =None)\n",
    "\n",
    "#create dataFrame and import average household income for each province across years data\n",
    "avg_income_df = pd.read_csv(Path('Resources/avg_household_income_canada.csv'))"
   ]
  },
  {
   "cell_type": "code",
   "execution_count": null,
   "id": "ac03de03-c176-49dd-ae65-0e74001039b8",
   "metadata": {},
   "outputs": [],
   "source": [
    "#function to fethch the Province names from dictionary of DataFrames-absorbed_unit_df \n",
    "def getProvince(absorbed_unit_df):\n",
    "    province = []\n",
    "    for key in absorbed_unit_df.keys():\n",
    "        province.append(key)\n",
    "    return province"
   ]
  },
  {
   "cell_type": "code",
   "execution_count": null,
   "id": "6eedfbcc-654e-4f3e-bb41-29cc3b5d21f4",
   "metadata": {},
   "outputs": [],
   "source": [
    "canada_housing_data_df = pd.DataFrame()\n",
    "for i in getProvince(absorbed_unit_df):\n",
    "    #absorbed_unit_df[i].set_index(['Year','Province'], inplace = True)\n",
    "    canada_housing_data_df = pd.concat([canada_housing_data_df,absorbed_unit_df[i]], axis = 0)\n",
    "\n",
    "canada_housing_data_df.set_index('Year', inplace = True)\n",
    "display(canada_housing_data_df.head())\n",
    "display(canada_housing_data_df.tail())"
   ]
  },
  {
   "cell_type": "code",
   "execution_count": null,
   "id": "47a52a37-f271-4b2b-af31-8bacaece395f",
   "metadata": {},
   "outputs": [],
   "source": [
    "#relevant years for analysis\n",
    "np.unique(canada_housing_data_df.index)"
   ]
  },
  {
   "cell_type": "code",
   "execution_count": null,
   "id": "28285c0f-d77e-40b2-8311-593ece7c6355",
   "metadata": {},
   "outputs": [],
   "source": [
    "#Fill NaN valuse with zero\n",
    "df1=canada_housing_data_df.fillna(value = 0)"
   ]
  },
  {
   "cell_type": "code",
   "execution_count": null,
   "id": "aacca345-0e23-4cc5-8178-285a9baef409",
   "metadata": {},
   "outputs": [],
   "source": [
    "#Drop rows where all Dwelling Type Columns{ Absorbed Single, Semi, row & other} contain zeros\n",
    "canada_housing_data_df = canada_housing_data_df.loc[\n",
    "    (canada_housing_data_df[['Absorbed - Single','Absorbed - Semi','Absorbed - Row','Absorbed - Apartment and other']] != 0)\n",
    "    .any(axis = 1)\n",
    "]\n",
    "\n",
    "#find the average price range and drop columns Price Range low($) & Price Range high($)\n",
    "canada_housing_data_df['Avg of Price Range']= canada_housing_data_df[['Price Range low($)', 'Price Range high($)']].mean(axis=1)\n",
    "canada_housing_data_df.drop(['Price Range low($)', 'Price Range high($)'], axis = 1, inplace = True)\n",
    "\n",
    "\n",
    "#disply sample data in the dataFrame\n",
    "display(canada_housing_data_df.head())\n",
    "display(canada_housing_data_df.tail())"
   ]
  },
  {
   "cell_type": "code",
   "execution_count": null,
   "id": "3a486ceb-1a3e-4281-96e6-7b06c15f2d5e",
   "metadata": {},
   "outputs": [],
   "source": [
    "'''\n",
    "#merge lat_lon_df & canada_housing_data_df to get the lat & long valuse in our dataFrame\n",
    "canada_housing_data_df = canada_housing_data_df.merge(lat_lon_df, on = 'Province', how = 'inner' )\n",
    "\n",
    "#merge avg_income_df & canada_housing_data_df to get the avg income valuse in our final dataFrame\n",
    "canada_housing_data_df = canada_housing_data_df.merge(avg_income_df, on = 'Province', how = 'inner' )\n",
    "'''"
   ]
  },
  {
   "cell_type": "code",
   "execution_count": null,
   "id": "14fbb0e7-6876-4bf4-89b6-92bdd537899f",
   "metadata": {},
   "outputs": [],
   "source": [
    "#reorganize columns in canada_housing_data_df\n",
    "canada_housing_data_df=canada_housing_data_df.reindex(sorted(canada_housing_data_df.columns, reverse = True), axis=1)"
   ]
  },
  {
   "cell_type": "markdown",
   "id": "7a477b81-6818-4f77-bbe0-9433f45fbf23",
   "metadata": {},
   "source": [
    "Questions:\n",
    "\n",
    "Q1.trend across the year--> Province wise\n",
    "\n",
    "Q2.which province suffered major impact-->  benefitted or sufered loss\n",
    "\n",
    "Q3.most units sold and min units sold --> specific province and Year. --> the price range\n",
    "\n",
    "\n",
    "Q4.stock beta for real estate companies.\n",
    "\n",
    "Q5. Market Demand by Price Range: Which price range has the most absorbed units, indicating the highest demand in the market? How does this vary across different provinces?\n",
    "\n",
    "Q6. Affordability Analysis: Based on the median household income in each province, which price ranges are realistically affordable to most families?\n",
    "\n",
    "Q7. Income Requirements for Home Ownership: Based on the absorbed units’ price range in each province, what is the estimated annual income required to afford housing? How does this compare across provinces, and how does it align with the actual median annual incomes in those provinces?"
   ]
  },
  {
   "cell_type": "code",
   "execution_count": null,
   "id": "3cbd89c1-11d0-4766-a066-9419fd629c6b",
   "metadata": {},
   "outputs": [],
   "source": [
    "# Rename the columns\n",
    "new_column_names = {\n",
    "    'Absorbed - Single': 'Single',\n",
    "    'Absorbed - Semi': 'Semi',\n",
    "    'Absorbed - Row': 'Row',\n",
    "    'Absorbed - Apartment and other': 'Apartment and other',\n",
    "}\n",
    "\n",
    "canada_housing_data_df = canada_housing_data_df.rename(columns=new_column_names)\n",
    "canada_housing_data_df.tail(5)"
   ]
  },
  {
   "cell_type": "code",
   "execution_count": null,
   "id": "dbf5af73-2283-480e-9540-3bbb90392738",
   "metadata": {},
   "outputs": [],
   "source": [
    "#calculate the total units sold in each provinces per year.\n",
    "canada_housing_data_df['Total Absorbed Units']=canada_housing_data_df[[\"Single\",\"Semi\",\"Row\",\"Apartment and other\"]].sum(axis=1)\n",
    "sum_of_sales=canada_housing_data_df.groupby(['Province','Year'])['Total Absorbed Units'].sum()\n",
    "#sum_of_sales.hvplot.bar()\n",
    "\n",
    "#Comment from ZHU:\n",
    "#The purpose of this secetion of code is to show the overall volume in housing market.\n",
    "#I dont think this graph is infomative enough. since the original data set is Absorbed Units, which is the newly built properties.\n",
    "#Some provinces may have higher volume in terms of pre-owned houses. There may be provinces that don't build as many new houses."
   ]
  },
  {
   "cell_type": "markdown",
   "id": "84eb495f-9b1c-439d-9514-4dd0b4294894",
   "metadata": {},
   "source": [
    "weighted price for single house =\n",
    "\n",
    "(# of unit from 1st price range in 2019/total unit in 2019) * midpoint price of 1st price range +\n",
    "\n",
    "(# of unit from 2nd price range in 2019/total unit in 2019) * midpoint price of 2nd price range +\n",
    "\n",
    "..."
   ]
  },
  {
   "cell_type": "code",
   "execution_count": null,
   "id": "04b591e2-6ac4-417f-996e-d197a7fc1029",
   "metadata": {},
   "outputs": [],
   "source": [
    "# Define dwelling types\n",
    "dwelling_types = ['Single', 'Semi', 'Row', 'Apartment and other']\n",
    "\n",
    "# Initialize an empty DataFrame\n",
    "housing_price_df = pd.DataFrame()\n",
    "\n",
    "# For Loop for each dwelling type\n",
    "for dwelling_type in dwelling_types:\n",
    "    # Calculate weighted price for each dwelling type\n",
    "    canada_housing_data_df[f'weighted_price_{dwelling_type}'] = canada_housing_data_df[f'{dwelling_type}'] * canada_housing_data_df['Avg of Price Range']\n",
    "    \n",
    "    # Group by Province and Year and sum up the weighted price\n",
    "    weighted_price_grouped = canada_housing_data_df.groupby(['Province', 'Year'])[f'weighted_price_{dwelling_type}'].sum()\n",
    "\n",
    "    # Group by Province and Year and sum up the absorbed units\n",
    "    absorbed_units_grouped = canada_housing_data_df.groupby(['Province', 'Year'])[f'{dwelling_type}'].sum()\n",
    "\n",
    "    # Merge the two series into a DataFrame\n",
    "    merged = pd.DataFrame(weighted_price_grouped)\n",
    "    merged[f'{dwelling_type}'] = absorbed_units_grouped\n",
    "\n",
    "    # Calculate the weighted average price\n",
    "    merged[f'Weighted_Avg_Price_{dwelling_type}'] = merged[f'weighted_price_{dwelling_type}'] / merged[f'{dwelling_type}']\n",
    "\n",
    "    # Drop the intermediate columns\n",
    "    merged.drop([f'weighted_price_{dwelling_type}', f'{dwelling_type}'], axis=1, inplace=True)\n",
    "\n",
    "    # Merge the result into the housing_price_df DataFrame\n",
    "    if housing_price_df.empty:\n",
    "        housing_price_df = merged\n",
    "    else:\n",
    "        housing_price_df = pd.merge(housing_price_df, merged, on=['Province', 'Year'])\n",
    "\n",
    "housing_price_df = housing_price_df.reset_index()"
   ]
  },
  {
   "cell_type": "code",
   "execution_count": null,
   "id": "220617cb-3b4f-4f51-825d-d5c1a14d8bb2",
   "metadata": {},
   "outputs": [],
   "source": [
    "housing_price_df.tail()"
   ]
  },
  {
   "cell_type": "code",
   "execution_count": null,
   "id": "90762498-de21-4615-8aa6-be13bf66e770",
   "metadata": {},
   "outputs": [],
   "source": [
    "# Define a function to plot trend for each dwelling type\n",
    "def plot_trend(dwelling_type):   \n",
    "    # The melt function is used to convert the DataFrame from wide format to long format.\n",
    "    plot_df = pd.melt(housing_price_df, id_vars=['Year', 'Province'], value_vars=[f'Weighted_Avg_Price_{dwelling_type}'])\n",
    "    \n",
    "    # Create a line plot of the WAP over years for each province using the hvplot library\n",
    "    trend_plot=plot_df.hvplot.line('Year', 'value', by='Province',width=800).opts(yformatter='%.0f',title=f'Price trend for {dwelling_type}')\n",
    "    \n",
    "    return trend_plot"
   ]
  },
  {
   "cell_type": "code",
   "execution_count": null,
   "id": "68a2b684-20c5-496f-903a-8b8dab64cff1",
   "metadata": {},
   "outputs": [],
   "source": [
    "# Reset the index of the housing_price_df dataframe\n",
    "housing_price_df.reset_index(inplace=True)\n",
    "\n",
    "#Plot Price Trend for all the dwelling type\n",
    "plot_trend('Single')+plot_trend('Semi')+plot_trend('Row')+plot_trend('Apartment and other')"
   ]
  },
  {
   "cell_type": "code",
   "execution_count": null,
   "id": "07c6285b-2182-452f-b4ad-e59980d80699",
   "metadata": {},
   "outputs": [],
   "source": [
    "#Question2\n",
    "#we are using Single house price as reference for return on housing market. \n",
    "return_house_df=housing_price_df[['Year', 'Province','Weighted_Avg_Price_Single']].copy()\n",
    "return_house_df.set_index(['Year', 'Province'], inplace=True)\n",
    "return_house_df['Annual Return %']=return_house_df.groupby('Province')['Weighted_Avg_Price_Single'].pct_change()\n",
    "return_house_df['Annual Return %']=return_house_df['Annual Return %']*100\n",
    "\n",
    "return_house_df.tail()"
   ]
  },
  {
   "cell_type": "code",
   "execution_count": null,
   "id": "846c5bcf-cce6-4b45-adcc-a3c4d2f622cf",
   "metadata": {},
   "outputs": [],
   "source": [
    "CGR = ((return_house_df.loc[2022]['Weighted_Avg_Price_Single'] / return_house_df.loc[2019]['Weighted_Avg_Price_Single']) - 1)*100\n",
    "CGR_df = pd.DataFrame(CGR).rename(columns={\"Weighted_Avg_Price_Single\": \"Cumulative Return %\"})\n",
    "CGR_df.hvplot.bar(rot=30).opts(title=\"Cumulative growth for each province in the past 4 years\")"
   ]
  },
  {
   "cell_type": "code",
   "execution_count": null,
   "id": "e9e935dc-0bd8-4802-b99a-8d48b724795b",
   "metadata": {},
   "outputs": [],
   "source": [
    "return_house_df['Annual Return %'].dropna().hvplot.bar(groupby='Year',rot=30,height=400)"
   ]
  },
  {
   "cell_type": "code",
   "execution_count": null,
   "id": "2cdad34c-6608-41f2-9803-099a92e6713d",
   "metadata": {},
   "outputs": [],
   "source": [
    "#question3\n",
    "#most units sold and min units sold --> specific province and Year. --> the price range\n",
    "#Most popular type of house and price range in each province in each year\n",
    "sales_house_df = canada_housing_data_df.reset_index()\n",
    "\n",
    "sales_house_df = sales_house_df.melt(id_vars=['Year','Province', 'Avg of Price Range'], \n",
    "                                          value_vars=['Single', 'Semi', 'Row', 'Apartment and other'], \n",
    "                                          var_name='House Type', \n",
    "                                          value_name='Units Sold')"
   ]
  },
  {
   "cell_type": "code",
   "execution_count": null,
   "id": "d4611d2e-c893-4e89-af35-10d14385ed1d",
   "metadata": {},
   "outputs": [],
   "source": [
    "grouped_sales_house_df=sales_house_df.groupby(['Province', 'Year', 'House Type'])['Units Sold'].sum().reset_index()\n",
    "grouped_sales_house_df.tail()"
   ]
  },
  {
   "cell_type": "code",
   "execution_count": null,
   "id": "14592f8e-19df-4025-a318-ffef50088d9c",
   "metadata": {},
   "outputs": [],
   "source": [
    "idx = grouped_sales_house_df.groupby(['Province', 'Year'])['Units Sold'].idxmax()\n",
    "most_popular_type_df=grouped_sales_house_df.loc[idx]\n",
    "most_popular_type_df\n",
    "#visualization"
   ]
  },
  {
   "cell_type": "markdown",
   "id": "bcf2c653-5510-4532-9f73-fbc0cc7dedce",
   "metadata": {},
   "source": [
    "### Q4"
   ]
  },
  {
   "cell_type": "code",
   "execution_count": null,
   "id": "cc9a729f-06cc-43e3-ae1b-b60e56e505e2",
   "metadata": {},
   "outputs": [],
   "source": [
    "# Reading REI.UN\n",
    "REI_UN_csv = Path(\"Resources\",\"REI.UN.csv\")\n",
    "REI_UN_df = pd.read_csv(REI_UN_csv, index_col=\"Date\", parse_dates=True)\n",
    "REI_UN_df.sort_index()\n",
    "REI_UN_df.head(10)"
   ]
  },
  {
   "cell_type": "code",
   "execution_count": null,
   "id": "5c336d48-0cd5-4752-b580-bc9aa742bb9e",
   "metadata": {},
   "outputs": [],
   "source": [
    "# Calculate Daily Returns\n",
    "REI_UN_returns =REI_UN_df['Close'].pct_change().dropna()\n",
    "\n",
    "REI_UN_returns.name = 'RioCan Real Estate'\n",
    "\n",
    "display(REI_UN_returns.head())\n"
   ]
  },
  {
   "cell_type": "code",
   "execution_count": null,
   "id": "96ca03cb-4221-4226-8638-680f422978fa",
   "metadata": {},
   "outputs": [],
   "source": [
    "# Reading TCN.TO\n",
    "TCN_TO_csv = Path(\"Resources\",\"TCN.TO.csv\")\n",
    "TCN_TO_dF = pd.read_csv(TCN_TO_csv, index_col=\"Date\", parse_dates=True)\n",
    "TCN_TO_dF.sort_index()\n",
    "TCN_TO_dF.head(10)"
   ]
  },
  {
   "cell_type": "code",
   "execution_count": null,
   "id": "7b58735e-883e-4618-8e23-31abc6976ee7",
   "metadata": {},
   "outputs": [],
   "source": [
    "# Calculate Daily Returns\n",
    "TCN_TO_returns =TCN_TO_dF['Close'].pct_change().dropna()\n",
    "TCN_TO_returns.name = 'Tricon Residential'\n",
    "display(TCN_TO_returns.head())\n"
   ]
  },
  {
   "cell_type": "code",
   "execution_count": null,
   "id": "68082951-7e2c-4ae3-8244-f85a3642bae5",
   "metadata": {},
   "outputs": [],
   "source": [
    "# Reading sp 500 tsx\n",
    "sptsx_csv = Path(\"Resources\",\"sptsx.csv\")\n",
    "sptsx_dF = pd.read_csv(sptsx_csv, index_col=\"Date\", parse_dates=True)\n",
    "sptsx_dF.sort_index()\n",
    "sptsx_dF.head(10)"
   ]
  },
  {
   "cell_type": "code",
   "execution_count": null,
   "id": "3945f723-784d-4c60-a3b9-15296cd7a0af",
   "metadata": {},
   "outputs": [],
   "source": [
    "# Calculate Daily Returns\n",
    "sptsx_return =sptsx_dF['Close'].pct_change().dropna()\n",
    "sptsx_return.name = 'sp tsx'\n",
    "display(sptsx_dF.head())"
   ]
  },
  {
   "cell_type": "code",
   "execution_count": null,
   "id": "f2dc2748-bc3d-434b-a58d-63fd28f902a6",
   "metadata": {},
   "outputs": [],
   "source": [
    "portfolio_returns = pd.concat([REI_UN_returns, TCN_TO_returns, sptsx_return], axis=\"columns\", join=\"inner\")\n",
    "portfolio_returns = portfolio_returns.sort_index()\n",
    "portfolio_returns.tail(10)"
   ]
  },
  {
   "cell_type": "code",
   "execution_count": null,
   "id": "646a6847-8a4f-4a80-a5a8-b2e8ae82631f",
   "metadata": {},
   "outputs": [],
   "source": [
    "# Plot daily returns of all portfolios\n",
    "portfolio_returns.plot()"
   ]
  },
  {
   "cell_type": "code",
   "execution_count": null,
   "id": "b90c1a44-2cda-433d-8481-abaa83e9e6fb",
   "metadata": {},
   "outputs": [],
   "source": [
    "# Calculate cumulative returns of all portfolios\n",
    "\n",
    "cumulative_returns = (1 + portfolio_returns).cumprod()\n",
    "# Plot cumulative returns\n",
    "cumulative_returns.plot(title=\"Cumulative Returns of All Portfolios\")"
   ]
  },
  {
   "cell_type": "code",
   "execution_count": null,
   "id": "fbe2eeb5-a5c2-4f16-9795-0eddd3d8e0e7",
   "metadata": {},
   "outputs": [],
   "source": [
    "correlation = cumulative_returns.corr()\n",
    "correlation"
   ]
  },
  {
   "cell_type": "code",
   "execution_count": null,
   "id": "933fa942-31af-4e6f-ac91-c9edc0a220cb",
   "metadata": {},
   "outputs": [],
   "source": [
    "# Calculate the correlation\n",
    "correlation_matrix = portfolio_returns.corr()\n",
    "\n",
    "# Display de correlation matrix\n",
    "sns.heatmap(correlation_matrix, vmin=-1, vmax=1)"
   ]
  },
  {
   "cell_type": "code",
   "execution_count": null,
   "id": "683a2d48-75b9-4a6f-a867-bc1a99d59501",
   "metadata": {},
   "outputs": [],
   "source": [
    "# Calculate the daily standard deviations of all portfolios\n",
    "portfolio_std = portfolio_returns.std()\n",
    "portfolio_std"
   ]
  },
  {
   "cell_type": "code",
   "execution_count": null,
   "id": "ca16626b-2922-4aaa-bb98-b5aab2e9ac0e",
   "metadata": {},
   "outputs": [],
   "source": [
    "# Calculate the daily standard deviation of S&P TSX 60\n",
    "sp_tsx_std = sptsx_return.std()\n",
    "\n",
    "# Determine which portfolios are riskier than the S&P TSX 60\n",
    "riskier_portfolios = {}\n",
    "\n",
    "# Calculate the standard deviation of all portfolios\n",
    "# Iterate over the portfolios\n",
    "for portfolio, std_dev in portfolio_std.iteritems():\n",
    "    # If the portfolio's standard deviation is greater than that of the S&P TSX 60\n",
    "    if std_dev > sp_tsx_std:\n",
    "        riskier_portfolios[portfolio] = std_dev\n",
    "\n",
    "# Convert the dictionary to a DataFrame for better visualization\n",
    "riskier_portfolios_df = pd.DataFrame(list(riskier_portfolios.items()), columns=['Portfolio', 'Std Dev'])\n",
    "\n",
    "print(riskier_portfolios_df)"
   ]
  },
  {
   "cell_type": "code",
   "execution_count": null,
   "id": "0ab4e080-4c86-4265-8f4f-353de73cf110",
   "metadata": {},
   "outputs": [],
   "source": [
    "# Calculate the annualized standard deviation (252 trading days)\n",
    "annualized_std = portfolio_std * np.sqrt(252)\n",
    "annualized_std"
   ]
  },
  {
   "cell_type": "code",
   "execution_count": null,
   "id": "986a7d54-21da-4dc4-9808-dde46daeb25e",
   "metadata": {},
   "outputs": [],
   "source": [
    "# Calculate covariance of a single portfolio\n",
    "rolling_covariance = portfolio_returns['Tricon Residential'].rolling(window=60).cov(sptsx_return)\n",
    "# Calculate variance of S&P TSX\n",
    "\n",
    "rolling_variance = sptsx_return.rolling(window=60).var()\n",
    "\n",
    "# Computing beta\n",
    "rolling_beta = rolling_covariance.mean() / rolling_variance\n",
    "\n",
    "# Plot beta trend\n",
    "\n",
    "rolling_beta.plot(title='Rolling Beta for Tricon Residential')\n",
    "\n"
   ]
  },
  {
   "cell_type": "code",
   "execution_count": null,
   "id": "0dde6777-d82c-4a2d-99c8-de4ba34675bd",
   "metadata": {},
   "outputs": [],
   "source": [
    "# Calculate covariance of a single portfolio\n",
    "rolling_covariance = portfolio_returns['RioCan Real Estate'].rolling(window=60).cov(sptsx_return)\n",
    "# Calculate variance of S&P TSX\n",
    "\n",
    "rolling_variance = sptsx_return.rolling(window=60).var()\n",
    "\n",
    "# Computing beta\n",
    "rolling_beta = rolling_covariance.mean() / rolling_variance\n",
    "\n",
    "# Plot beta trend\n",
    "\n",
    "rolling_beta.plot(title='Rolling Beta for RioCan Real Estate')\n",
    "\n"
   ]
  },
  {
   "cell_type": "markdown",
   "id": "b971ba2a-d636-4a44-8432-5c8aebf77ac2",
   "metadata": {},
   "source": [
    "Q6. Based on the median household income in each province, which price ranges are realistically affordable to most families?\n",
    "\n",
    "Q7. Income Requirements for Home Ownership: Based on the absorbed units’ price range in each province, what is the estimated annual income required to afford housing? How does this compare across provinces, and how does it align with the actual median annual incomes in those provinces?"
   ]
  },
  {
   "cell_type": "code",
   "execution_count": null,
   "id": "eb3304dd-e4e7-485c-8ae5-e97a33e3bd84",
   "metadata": {},
   "outputs": [],
   "source": [
    "def cal_affordable_price(row):\n",
    "    return row['Avg Income']*0.3*25\n",
    "\n",
    "avg_income_df['Affordable Price']=avg_income_df.apply(cal_affordable_price,axis=1)\n",
    "avg_income_df=avg_income_df.set_index(['Year','Province'])\n"
   ]
  },
  {
   "cell_type": "code",
   "execution_count": null,
   "id": "abc8e667-42a0-4729-8fb5-b2a4f54188f5",
   "metadata": {},
   "outputs": [],
   "source": [
    "housing_price_df=housing_price_df.set_index(['Year','Province'])\n"
   ]
  },
  {
   "cell_type": "code",
   "execution_count": null,
   "id": "2288620e-c75a-4094-8c6c-4c38e4dbd9cc",
   "metadata": {},
   "outputs": [],
   "source": [
    "affordable_house_df=pd.concat([housing_price_df,avg_income_df],join='inner',axis=1)"
   ]
  },
  {
   "cell_type": "code",
   "execution_count": null,
   "id": "ae8b1281-cc56-49b1-80e9-a9d7e869a297",
   "metadata": {},
   "outputs": [],
   "source": [
    "affordable_house_df=affordable_house_df.reset_index()"
   ]
  },
  {
   "cell_type": "code",
   "execution_count": null,
   "id": "7829ea41-cbb7-4c80-8868-cc48f7abfdb4",
   "metadata": {},
   "outputs": [],
   "source": [
    "affordable_house_df.sample(5)"
   ]
  },
  {
   "cell_type": "code",
   "execution_count": null,
   "id": "03e3c43d-a22c-4be1-90db-e9752a5cce19",
   "metadata": {},
   "outputs": [],
   "source": [
    "for n in range(len(affordable_house_df['Affordable Price'])):\n",
    "    aff_price=affordable_house_df['Affordable Price'][n]\n",
    "    condo_price=affordable_house_df['Weighted_Avg_Price_Apartment and other'][n]\n",
    "    row_price=affordable_house_df['Weighted_Avg_Price_Row'][n]\n",
    "    semi_price=affordable_house_df['Weighted_Avg_Price_Semi'][n]\n",
    "    single_price=affordable_house_df['Weighted_Avg_Price_Single'][n]\n",
    "    if (aff_price<condo_price):\n",
    "        \n",
    "        if (aff_price<row_price):\n",
    "            \n",
    "            if (aff_price<semi_price):\n",
    "    else:\n",
    "        print('not affordable')\n"
   ]
  },
  {
   "cell_type": "code",
   "execution_count": null,
   "id": "6ab49705-d785-4579-8f12-67d326899a2a",
   "metadata": {},
   "outputs": [],
   "source": [
    "affordable_house_df"
   ]
  },
  {
   "cell_type": "code",
   "execution_count": null,
   "id": "165784e0-4228-4999-88e0-c65b0e3af9c8",
   "metadata": {},
   "outputs": [],
   "source": []
  }
 ],
 "metadata": {
  "kernelspec": {
   "display_name": "Python 3 (ipykernel)",
   "language": "python",
   "name": "python3"
  },
  "language_info": {
   "codemirror_mode": {
    "name": "ipython",
    "version": 3
   },
   "file_extension": ".py",
   "mimetype": "text/x-python",
   "name": "python",
   "nbconvert_exporter": "python",
   "pygments_lexer": "ipython3",
   "version": "3.9.13"
  }
 },
 "nbformat": 4,
 "nbformat_minor": 5
}
