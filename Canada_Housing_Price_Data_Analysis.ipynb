{
 "cells": [
  {
   "cell_type": "code",
   "execution_count": null,
   "id": "449b2ef9-f524-4db1-9aa9-ab6b56379812",
   "metadata": {},
   "outputs": [],
   "source": [
    "# Initial imports\n",
    "import os\n",
    "import requests\n",
    "import pandas as pd\n",
    "import numpy as np\n",
    "#from dotenv import load_dotenv\n",
    "import hvplot.pandas\n",
    "from pathlib import Path\n",
    "import seaborn as sns\n",
    "\n",
    "import matplotlib.pyplot as plt\n",
    "%matplotlib inline\n",
    "\n",
    "import warnings\n",
    "warnings.filterwarnings(\"ignore\")"
   ]
  },
  {
   "cell_type": "markdown",
   "id": "ce293c08-a83b-4630-a396-4a2eaf0ed1cd",
   "metadata": {},
   "source": [
    "## Reading our data into dataFrames\n",
    "Data includes:\n",
    " * Latitude and Longitude of all Canada Provinces~ from [url](https://www.latlong.net/category/provinces-40-60.html).\n",
    " * Price range for houses in different provinces of Canada from excel file and avg household income per province using csv file.\n",
    " * Stock Prices data for *RioCan(REI-UN.TO)* Real Estate Investment Trust  & *Tricon Residential(TCN.TO)* a Canadian real estate company "
   ]
  },
  {
   "cell_type": "code",
   "execution_count": null,
   "id": "9feb4bd5-f82f-41bd-b045-43bb3c8c69e0",
   "metadata": {},
   "outputs": [],
   "source": [
    "#get the latitude and longitude valuse for Canada provinces using url\n",
    "lat_lon_df = pd.read_html(\"https://www.latlong.net/category/provinces-40-60.html\")"
   ]
  },
  {
   "cell_type": "code",
   "execution_count": null,
   "id": "6f560e88-cebb-4b77-8b7b-86193db75fa0",
   "metadata": {},
   "outputs": [],
   "source": [
    "#converting our list into dataFrame\n",
    "lat_lon_df = pd.DataFrame(np.reshape(lat_lon_df, (10,3)), columns = ['Province', 'Latitude', 'Longitude'])"
   ]
  },
  {
   "cell_type": "code",
   "execution_count": null,
   "id": "c8efb939-7a8c-4d7f-a14e-42a7e1f6d17f",
   "metadata": {},
   "outputs": [],
   "source": [
    "#remove the unwanted string from our columns\n",
    "lat_lon_df['Province'] = lat_lon_df['Province'].str.replace(', Canada', '')"
   ]
  },
  {
   "cell_type": "code",
   "execution_count": null,
   "id": "6768e675-b8f9-4fd6-b448-c0804bc0ba75",
   "metadata": {},
   "outputs": [],
   "source": [
    "# display our latitude & longitude dataFrame\n",
    "lat_lon_df"
   ]
  },
  {
   "cell_type": "code",
   "execution_count": null,
   "id": "8f159ed5-e403-4e7d-abaf-aeee04756324",
   "metadata": {},
   "outputs": [],
   "source": [
    "# Using the read_csv function and Path module \n",
    "# create a housing_data_df DataFrame by importing the \n",
    "#'absorbed-units-price-range-canada-provinces-for-all-dwelling-types-2019-2022-en.xlsx file' from the Resources folder\n",
    "housing_data_df = pd.read_excel(Path(\"\"\"Resources/absorbed-units-price-range-canada-provinces-for-all-dwelling-types-2019-2022-en.xlsx\"\"\"), \n",
    "                                header = 1,\n",
    "                                sheet_name =None)\n",
    "\n",
    "#create dataFrame and import average household income for each province across years data\n",
    "avg_income_df = pd.read_csv(Path('Resources/avg_household_income_canada.csv'))\n",
    "#create dataFrame and import RioCan and Tricon Residential stock data\n",
    "rei_df = pd.read_csv(Path('Resources/REI.UN.csv'))\n",
    "tcn_df = pd.read_csv(Path('Resources/TCN.TO.csv'))"
   ]
  },
  {
   "cell_type": "code",
   "execution_count": null,
   "id": "ac03de03-c176-49dd-ae65-0e74001039b8",
   "metadata": {},
   "outputs": [],
   "source": [
    "#function to fethch the Province names from dictionary of DataFrames- housing_data_df \n",
    "def getProvince(housing_data_df):\n",
    "    province = []\n",
    "    for key in housing_data_df.keys():\n",
    "        province.append(key)\n",
    "         \n",
    "    return province"
   ]
  },
  {
   "cell_type": "code",
   "execution_count": null,
   "id": "6eedfbcc-654e-4f3e-bb41-29cc3b5d21f4",
   "metadata": {},
   "outputs": [],
   "source": [
    "canada_housing_data_df = pd.DataFrame()\n",
    "for i in getProvince(housing_data_df):\n",
    "    #housing_data_df[i].set_index(['Year','Province'], inplace = True)\n",
    "    canada_housing_data_df = pd.concat([canada_housing_data_df,housing_data_df[i]], axis = 0)\n",
    "\n",
    "canada_housing_data_df.set_index('Year', inplace = True)\n",
    "display(canada_housing_data_df.head())\n",
    "display(canada_housing_data_df.tail())"
   ]
  },
  {
   "cell_type": "code",
   "execution_count": null,
   "id": "47a52a37-f271-4b2b-af31-8bacaece395f",
   "metadata": {},
   "outputs": [],
   "source": [
    "#relevant years for analysis\n",
    "np.unique(canada_housing_data_df.index)"
   ]
  },
  {
   "cell_type": "code",
   "execution_count": null,
   "id": "28285c0f-d77e-40b2-8311-593ece7c6355",
   "metadata": {},
   "outputs": [],
   "source": [
    "#Fill NaN valuse with zero\n",
    "df1=canada_housing_data_df.fillna(value = 0)"
   ]
  },
  {
   "cell_type": "code",
   "execution_count": null,
   "id": "aacca345-0e23-4cc5-8178-285a9baef409",
   "metadata": {},
   "outputs": [],
   "source": [
    "#Drop rows where all Dwelling Type Columns{ Absorbed Single, Semi, row & other} contain zeros\n",
    "canada_housing_data_df = canada_housing_data_df.loc[\n",
    "    (canada_housing_data_df[['Absorbed - Single','Absorbed - Semi','Absorbed - Row','Absorbed - Apartment and other']] != 0)\n",
    "    .any(axis = 1)\n",
    "]\n",
    "\n",
    "#find the average price range and drop columns Price Range low($) & Price Range high($)\n",
    "canada_housing_data_df['Avg of Price Range']= canada_housing_data_df[['Price Range low($)', 'Price Range high($)']].mean(axis=1)\n",
    "canada_housing_data_df.drop(['Price Range low($)', 'Price Range high($)'], axis = 1, inplace = True)\n",
    "\n",
    "\n",
    "#disply sample data in the dataFrame\n",
    "display(canada_housing_data_df.head())\n",
    "display(canada_housing_data_df.tail())"
   ]
  },
  {
   "cell_type": "code",
   "execution_count": null,
   "id": "3a486ceb-1a3e-4281-96e6-7b06c15f2d5e",
   "metadata": {},
   "outputs": [],
   "source": [
    "'''\n",
    "#merge lat_lon_df & canada_housing_data_df to get the lat & long valuse in our dataFrame\n",
    "canada_housing_data_df = canada_housing_data_df.merge(lat_lon_df, on = 'Province', how = 'inner' )\n",
    "\n",
    "#merge avg_income_df & canada_housing_data_df to get the avg income valuse in our final dataFrame\n",
    "canada_housing_data_df = canada_housing_data_df.merge(avg_income_df, on = 'Province', how = 'inner' )\n",
    "'''"
   ]
  },
  {
   "cell_type": "code",
   "execution_count": null,
   "id": "14fbb0e7-6876-4bf4-89b6-92bdd537899f",
   "metadata": {},
   "outputs": [],
   "source": [
    "#reorganize columns in canada_housing_data_df\n",
    "canada_housing_data_df=canada_housing_data_df.reindex(sorted(canada_housing_data_df.columns, reverse = True), axis=1)"
   ]
  },
  {
   "cell_type": "markdown",
   "id": "7a477b81-6818-4f77-bbe0-9433f45fbf23",
   "metadata": {},
   "source": [
    "Questions:\n",
    "\n",
    "Q1.trend across the year--> Province wise\n",
    "\n",
    "Q2.which province suffered major impact-->  benefitted or sufered loss\n",
    "\n",
    "Q3.most units sold and min units sold --> specific province and Year. --> the price range\n",
    "relation between inflation rate, avg income, unit sold and avg house price\n",
    "(2-d at a time)\n",
    "\n",
    "Q4.stock correlation with housing price in Canada housing price in Canada\n",
    "\n",
    "Q5. Market Demand by Price Range: Which price range has the most absorbed units, indicating the highest demand in the market? How does this vary across different provinces?\n",
    "\n",
    "Q6. Affordability Analysis: Based on the median household income in each province, which price ranges are realistically affordable to most families?\n",
    "\n",
    "Q7. Income Requirements for Home Ownership: Based on the absorbed units’ price range in each province, what is the estimated annual income required to afford housing? How does this compare across provinces, and how does it align with the actual median annual incomes in those provinces?"
   ]
  },
  {
   "cell_type": "code",
   "execution_count": null,
   "id": "3cbd89c1-11d0-4766-a066-9419fd629c6b",
   "metadata": {},
   "outputs": [],
   "source": [
    "canada_housing_data_df.tail(5)"
   ]
  },
  {
   "cell_type": "code",
   "execution_count": null,
   "id": "dbf5af73-2283-480e-9540-3bbb90392738",
   "metadata": {},
   "outputs": [],
   "source": [
    "#calculate the total units sold in each provinces per year.\n",
    "canada_housing_data_df['Total Absorbed Units']=canada_housing_data_df[[\"Absorbed - Single\",\"Absorbed - Semi\",\"Absorbed - Row\",\"Absorbed - Apartment and other\"]].sum(axis=1)\n",
    "group_df=canada_housing_data_df.groupby(['Province','Year'])['Total Absorbed Units'].sum()\n",
    "group_df.hvplot.bar()"
   ]
  },
  {
   "cell_type": "code",
   "execution_count": null,
   "id": "848f6fec-8dbb-46ee-882d-6b855c49f736",
   "metadata": {},
   "outputs": [],
   "source": [
    "#single_house_df=canada_housing_data_df[canada_housing_data_df['Absorbed - Single']!=0]\n",
    "total_unit_single=canada_housing_data_df.groupby(['Province','Year'])[\"Absorbed - Single\"].sum()\n",
    "#total_unit_single.loc['Alberta',2019]"
   ]
  },
  {
   "cell_type": "code",
   "execution_count": null,
   "id": "9553942c-4982-4ef0-88e3-2ea8789706f2",
   "metadata": {},
   "outputs": [],
   "source": [
    "canada_housing_data_df['weighted price - single']=canada_housing_data_df['Avg of Price Range']*canada_housing_data_df['Absorbed - Single']\n",
    "canada_housing_data_df.tail()"
   ]
  },
  {
   "cell_type": "code",
   "execution_count": null,
   "id": "080ee44a-f3eb-4cae-87bd-a8dae9153416",
   "metadata": {},
   "outputs": [],
   "source": [
    "grouped = canada_housing_data_df.groupby(['Province', 'Year'])['weighted price - single'].sum()"
   ]
  },
  {
   "cell_type": "code",
   "execution_count": null,
   "id": "62e8ec0d-b4f8-4acd-8508-45089339b4c8",
   "metadata": {},
   "outputs": [],
   "source": [
    "grouped = pd.merge(grouped,total_unit_single,on=['Province', 'Year'])"
   ]
  },
  {
   "cell_type": "code",
   "execution_count": null,
   "id": "0de03760-d3f8-43fb-8aab-703d746a6254",
   "metadata": {},
   "outputs": [],
   "source": [
    "grouped['Weighted Avg Price - Single'] = grouped['weighted price - single'] / grouped['Absorbed - Single']\n",
    "grouped['Weighted Avg Price - Single'].hvplot(groupby='Province')"
   ]
  },
  {
   "cell_type": "code",
   "execution_count": null,
   "id": "09a09dcb-9d20-4927-a8c6-94389d594cfc",
   "metadata": {},
   "outputs": [],
   "source": [
    "ontraio=grouped.loc['Ontario']\n",
    "overlay = ontraio['Weighted Avg Price - Single'].hvplot.line()\n",
    "for i,Province in enumerate(getProvince(housing_data_df)):\n",
    "    if i==0:\n",
    "        continue\n",
    "    else:\n",
    "        df=grouped.loc[Province]\n",
    "        line_plot=df['Weighted Avg Price - Single'].hvplot.line()\n",
    "        overlay*=line_plot"
   ]
  },
  {
   "cell_type": "code",
   "execution_count": null,
   "id": "07de88ef-e3cf-4c85-b477-122116b0961b",
   "metadata": {},
   "outputs": [],
   "source": [
    "overlay\n",
    "#additonal task: add legend for each province"
   ]
  },
  {
   "cell_type": "code",
   "execution_count": null,
   "id": "58d2bce3-48c0-4aa6-806d-16237f19c9fe",
   "metadata": {},
   "outputs": [],
   "source": [
    "#question2\n",
    "grouped['% Change in Price']=grouped.groupby('Province')['Weighted Avg Price - Single'].pct_change()\n",
    "grouped['% Change in Price'].idxmax()\n",
    "grouped['% Change in Price'].idxmin()"
   ]
  },
  {
   "cell_type": "code",
   "execution_count": 99,
   "id": "2cdad34c-6608-41f2-9803-099a92e6713d",
   "metadata": {},
   "outputs": [],
   "source": [
    "#question3!"
   ]
  },
  {
   "cell_type": "code",
   "execution_count": null,
   "id": "48977f7d-0e6b-4d2b-b1fa-2eacdd8c1926",
   "metadata": {},
   "outputs": [],
   "source": []
  }
 ],
 "metadata": {
  "kernelspec": {
   "display_name": "Python 3 (ipykernel)",
   "language": "python",
   "name": "python3"
  },
  "language_info": {
   "codemirror_mode": {
    "name": "ipython",
    "version": 3
   },
   "file_extension": ".py",
   "mimetype": "text/x-python",
   "name": "python",
   "nbconvert_exporter": "python",
   "pygments_lexer": "ipython3",
   "version": "3.9.13"
  }
 },
 "nbformat": 4,
 "nbformat_minor": 5
}
