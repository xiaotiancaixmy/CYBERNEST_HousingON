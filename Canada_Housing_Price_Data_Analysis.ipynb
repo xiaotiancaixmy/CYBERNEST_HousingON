{
 "cells": [
  {
   "cell_type": "code",
   "execution_count": null,
   "id": "449b2ef9-f524-4db1-9aa9-ab6b56379812",
   "metadata": {
    "colab": {
     "base_uri": "https://localhost:8080/",
     "height": 17
    },
    "id": "449b2ef9-f524-4db1-9aa9-ab6b56379812",
    "outputId": "f6336a11-30ec-4202-dfd5-3367d55fb5c3",
    "tags": []
   },
   "outputs": [],
   "source": [
    "# Initial imports\n",
    "import os\n",
    "import requests\n",
    "import pandas as pd\n",
    "import numpy as np\n",
    "#from dotenv import load_dotenv\n",
    "import hvplot.pandas\n",
    "from pathlib import Path\n",
    "import seaborn as sns\n",
    "from datetime import datetime\n",
    "import seaborn as sns\n",
    "import matplotlib.pyplot as plt\n",
    "%matplotlib inline\n",
    "\n",
    "import warnings\n",
    "warnings.filterwarnings(\"ignore\")"
   ]
  },
  {
   "cell_type": "markdown",
   "id": "ce293c08-a83b-4630-a396-4a2eaf0ed1cd",
   "metadata": {
    "id": "ce293c08-a83b-4630-a396-4a2eaf0ed1cd"
   },
   "source": [
    "## Reading our data into dataFrames\n",
    "Data includes:\n",
    " * Latitude and Longitude of all Canada Provinces~ from [url](https://www.latlong.net/category/provinces-40-60.html).\n",
    " * Price range for houses in different provinces of Canada from excel file and avg household income per province using csv file.\n",
    " * Stock Prices data for *RioCan(REI-UN.TO)* Real Estate Investment Trust  & *Tricon Residential(TCN.TO)* a Canadian real estate company"
   ]
  },
  {
   "cell_type": "code",
   "execution_count": null,
   "id": "9feb4bd5-f82f-41bd-b045-43bb3c8c69e0",
   "metadata": {
    "id": "9feb4bd5-f82f-41bd-b045-43bb3c8c69e0",
    "tags": []
   },
   "outputs": [],
   "source": [
    "#get the latitude and longitude valuse for Canada provinces using url\n",
    "lat_lon_df = pd.read_html(\"https://www.latlong.net/category/provinces-40-60.html\")"
   ]
  },
  {
   "cell_type": "code",
   "execution_count": null,
   "id": "6f560e88-cebb-4b77-8b7b-86193db75fa0",
   "metadata": {
    "colab": {
     "base_uri": "https://localhost:8080/",
     "height": 363
    },
    "id": "6f560e88-cebb-4b77-8b7b-86193db75fa0",
    "outputId": "2e07c228-ff49-4b5c-959e-354546ec9b90",
    "tags": []
   },
   "outputs": [],
   "source": [
    "#converting our list into dataFrame\n",
    "lat_lon_df = pd.DataFrame(np.reshape(lat_lon_df, (10,3)), columns = ['Province', 'Latitude', 'Longitude'])\n",
    "#remove the unwanted string from our columns\n",
    "lat_lon_df['Province'] = lat_lon_df['Province'].str.replace(', Canada', '')\n",
    "#replace 'Saskatchewan Province' and 'Quebec Province'\n",
    "lat_lon_df['Province'] = lat_lon_df['Province'].replace({\n",
    "    'Saskatchewan Province': 'Saskatchewan',\n",
    "    'Quebec Province': 'Quebec'\n",
    "})\n",
    "#display our latitude & longitude dataFrame\n",
    "lat_lon_df"
   ]
  },
  {
   "cell_type": "code",
   "execution_count": null,
   "id": "8f159ed5-e403-4e7d-abaf-aeee04756324",
   "metadata": {
    "id": "8f159ed5-e403-4e7d-abaf-aeee04756324",
    "tags": []
   },
   "outputs": [],
   "source": [
    "# Using the read_csv function and Path module\n",
    "# create a absorbed_unit_df DataFrame by importing the\n",
    "#'absorbed-units-price-range-canada-provinces-for-all-dwelling-types-2019-2022-en.xlsx file' from the Resources folder\n",
    "absorbed_unit_df = pd.read_excel(Path(\"\"\"./Resources/absorbed-units-price-range-canada-provinces-for-all-dwelling-types-2019-2022-en.xlsx\"\"\"),\n",
    "                                header = 1,\n",
    "                                sheet_name =None)\n",
    "\n",
    "#create dataFrame and import average household income for each province across years data\n",
    "avg_income_df = pd.read_csv(Path('./Resources/avg_household_income_canada.csv'))"
   ]
  },
  {
   "cell_type": "code",
   "execution_count": null,
   "id": "ac03de03-c176-49dd-ae65-0e74001039b8",
   "metadata": {
    "id": "ac03de03-c176-49dd-ae65-0e74001039b8",
    "tags": []
   },
   "outputs": [],
   "source": [
    "#function to fethch the Province names from dictionary of DataFrames-absorbed_unit_df\n",
    "def getProvince(absorbed_unit_df):\n",
    "    province = []\n",
    "    for key in absorbed_unit_df.keys():\n",
    "        province.append(key)\n",
    "    return province"
   ]
  },
  {
   "cell_type": "code",
   "execution_count": null,
   "id": "6eedfbcc-654e-4f3e-bb41-29cc3b5d21f4",
   "metadata": {
    "colab": {
     "base_uri": "https://localhost:8080/",
     "height": 458
    },
    "id": "6eedfbcc-654e-4f3e-bb41-29cc3b5d21f4",
    "outputId": "7bc77c79-3d98-459f-b8d7-eb2a1df641ad",
    "tags": []
   },
   "outputs": [],
   "source": [
    "canada_housing_data_df = pd.DataFrame()\n",
    "for i in getProvince(absorbed_unit_df):\n",
    "    #absorbed_unit_df[i].set_index(['Year','Province'], inplace = True)\n",
    "    canada_housing_data_df = pd.concat([canada_housing_data_df,absorbed_unit_df[i]], axis = 0)\n",
    "\n",
    "canada_housing_data_df.set_index('Year', inplace = True)\n",
    "display(canada_housing_data_df.head())\n",
    "display(canada_housing_data_df.tail())"
   ]
  },
  {
   "cell_type": "code",
   "execution_count": null,
   "id": "47a52a37-f271-4b2b-af31-8bacaece395f",
   "metadata": {
    "colab": {
     "base_uri": "https://localhost:8080/"
    },
    "id": "47a52a37-f271-4b2b-af31-8bacaece395f",
    "outputId": "c02731f3-b92d-46cf-ea14-263a3a87926f",
    "tags": []
   },
   "outputs": [],
   "source": [
    "#relevant years for analysis\n",
    "np.unique(canada_housing_data_df.index)"
   ]
  },
  {
   "cell_type": "code",
   "execution_count": null,
   "id": "28285c0f-d77e-40b2-8311-593ece7c6355",
   "metadata": {
    "id": "28285c0f-d77e-40b2-8311-593ece7c6355",
    "tags": []
   },
   "outputs": [],
   "source": [
    "#Fill NaN valuse with zero\n",
    "df1=canada_housing_data_df.fillna(value = 0)"
   ]
  },
  {
   "cell_type": "code",
   "execution_count": null,
   "id": "aacca345-0e23-4cc5-8178-285a9baef409",
   "metadata": {
    "colab": {
     "base_uri": "https://localhost:8080/",
     "height": 458
    },
    "id": "aacca345-0e23-4cc5-8178-285a9baef409",
    "outputId": "13eb3e57-4dc1-49a6-c905-0aaf0e4b638f",
    "tags": []
   },
   "outputs": [],
   "source": [
    "#Drop rows where all Dwelling Type Columns{ Absorbed Single, Semi, row & other} contain zeros\n",
    "canada_housing_data_df = canada_housing_data_df.loc[\n",
    "    (canada_housing_data_df[['Absorbed - Single','Absorbed - Semi','Absorbed - Row','Absorbed - Apartment and other']] != 0)\n",
    "    .any(axis = 1)\n",
    "]\n",
    "\n",
    "#find the average price range and drop columns Price Range low($) & Price Range high($)\n",
    "canada_housing_data_df['Avg of Price Range']= canada_housing_data_df[['Price Range low($)', 'Price Range high($)']].mean(axis=1)\n",
    "canada_housing_data_df.drop(['Price Range low($)', 'Price Range high($)'], axis = 1, inplace = True)\n",
    "\n",
    "\n",
    "#disply sample data in the dataFrame\n",
    "display(canada_housing_data_df.head())\n",
    "display(canada_housing_data_df.tail())"
   ]
  },
  {
   "cell_type": "code",
   "execution_count": null,
   "id": "3a486ceb-1a3e-4281-96e6-7b06c15f2d5e",
   "metadata": {
    "colab": {
     "base_uri": "https://localhost:8080/",
     "height": 70
    },
    "id": "3a486ceb-1a3e-4281-96e6-7b06c15f2d5e",
    "outputId": "52d6ff38-f16e-47c1-f73a-ed4d500b64d2",
    "tags": []
   },
   "outputs": [],
   "source": [
    "'''\n",
    "#merge lat_lon_df & canada_housing_data_df to get the lat & long valuse in our dataFrame\n",
    "canada_housing_data_df = canada_housing_data_df.merge(lat_lon_df, on = 'Province', how = 'inner' )\n",
    "\n",
    "#merge avg_income_df & canada_housing_data_df to get the avg income valuse in our final dataFrame\n",
    "canada_housing_data_df = canada_housing_data_df.merge(avg_income_df, on = 'Province', how = 'inner' )\n",
    "'''"
   ]
  },
  {
   "cell_type": "code",
   "execution_count": null,
   "id": "14fbb0e7-6876-4bf4-89b6-92bdd537899f",
   "metadata": {
    "id": "14fbb0e7-6876-4bf4-89b6-92bdd537899f",
    "tags": []
   },
   "outputs": [],
   "source": [
    "#reorganize columns in canada_housing_data_df\n",
    "canada_housing_data_df=canada_housing_data_df.reindex(sorted(canada_housing_data_df.columns, reverse = True), axis=1)"
   ]
  },
  {
   "cell_type": "code",
   "execution_count": null,
   "id": "a000260d",
   "metadata": {
    "colab": {
     "base_uri": "https://localhost:8080/",
     "height": 455
    },
    "id": "a000260d",
    "outputId": "47d7068c-1d7e-498f-e4f8-3ef77e13ebcb",
    "tags": []
   },
   "outputs": [],
   "source": [
    "canada_housing_data_df"
   ]
  },
  {
   "cell_type": "markdown",
   "id": "7a477b81-6818-4f77-bbe0-9433f45fbf23",
   "metadata": {
    "id": "7a477b81-6818-4f77-bbe0-9433f45fbf23"
   },
   "source": [
    "Questions:\n",
    "\n",
    "Q1.trend across the year--> Province wise\n",
    "\n",
    "Q2.which province suffered major impact-->  benefitted or sufered loss\n",
    "\n",
    "Q3.most units sold and min units sold --> specific province and Year. --> the price range\n",
    "\n",
    "\n",
    "Q4.stock beta for real estate companies.\n",
    "\n",
    "Q5. Market Demand by Price Range: Which price range has the most absorbed units, indicating the highest demand in the market? How does this vary across different provinces?\n",
    "\n",
    "Q6. Affordability Analysis: Based on the median household income in each province, which price ranges are realistically affordable to most families?\n",
    "\n",
    "Q7. Income Requirements for Home Ownership: Based on the absorbed units’ price range in each province, what is the estimated annual income required to afford housing? How does this compare across provinces, and how does it align with the actual median annual incomes in those provinces?"
   ]
  },
  {
   "cell_type": "code",
   "execution_count": null,
   "id": "3cbd89c1-11d0-4766-a066-9419fd629c6b",
   "metadata": {
    "colab": {
     "base_uri": "https://localhost:8080/",
     "height": 237
    },
    "id": "3cbd89c1-11d0-4766-a066-9419fd629c6b",
    "outputId": "90834710-15a6-4e26-800a-88a8c3d40a49",
    "tags": []
   },
   "outputs": [],
   "source": [
    "# Rename the columns\n",
    "new_column_names = {\n",
    "    'Absorbed - Single': 'Single',\n",
    "    'Absorbed - Semi': 'Semi',\n",
    "    'Absorbed - Row': 'Row',\n",
    "    'Absorbed - Apartment and other': 'Apartment and other',\n",
    "}\n",
    "\n",
    "canada_housing_data_df = canada_housing_data_df.rename(columns=new_column_names)\n",
    "canada_housing_data_df.tail(5)"
   ]
  },
  {
   "cell_type": "code",
   "execution_count": null,
   "id": "dbf5af73-2283-480e-9540-3bbb90392738",
   "metadata": {
    "colab": {
     "base_uri": "https://localhost:8080/"
    },
    "id": "dbf5af73-2283-480e-9540-3bbb90392738",
    "outputId": "a74e654b-1e2e-4cd1-ae12-68abac302fc8",
    "tags": []
   },
   "outputs": [],
   "source": [
    "#calculate the total units sold in each provinces per year.\n",
    "canada_housing_data_df['Total Absorbed Units']=canada_housing_data_df[[\"Single\",\"Semi\",\"Row\",\"Apartment and other\"]].sum(axis=1)\n",
    "sum_of_sales=canada_housing_data_df.groupby(['Province','Year'])['Total Absorbed Units'].sum()\n",
    "#sum_of_sales.hvplot.bar()\n",
    "sum_of_sales\n",
    "#Comment from ZHU:\n",
    "#The purpose of this secetion of code is to show the overall volume in housing market.\n",
    "#I dont think this graph is infomative enough. since the original data set is Absorbed Units, which is the newly built properties.\n",
    "#Some provinces may have higher volume in terms of pre-owned houses. There may be provinces that don't build as many new houses."
   ]
  },
  {
   "cell_type": "markdown",
   "id": "84eb495f-9b1c-439d-9514-4dd0b4294894",
   "metadata": {
    "id": "84eb495f-9b1c-439d-9514-4dd0b4294894"
   },
   "source": [
    "weighted price for single house =\n",
    "\n",
    "(# of unit from 1st price range in 2019/total unit in 2019) * midpoint price of 1st price range +\n",
    "\n",
    "(# of unit from 2nd price range in 2019/total unit in 2019) * midpoint price of 2nd price range +\n",
    "\n",
    "..."
   ]
  },
  {
   "cell_type": "code",
   "execution_count": null,
   "id": "04b591e2-6ac4-417f-996e-d197a7fc1029",
   "metadata": {
    "id": "04b591e2-6ac4-417f-996e-d197a7fc1029",
    "tags": []
   },
   "outputs": [],
   "source": [
    "# Define dwelling types\n",
    "dwelling_types = ['Single', 'Semi', 'Row', 'Apartment and other']\n",
    "\n",
    "# Initialize an empty DataFrame\n",
    "housing_price_df = pd.DataFrame()\n",
    "\n",
    "# For Loop for each dwelling type\n",
    "for dwelling_type in dwelling_types:\n",
    "    # Calculate weighted price for each dwelling type\n",
    "    canada_housing_data_df[f'weighted_price_{dwelling_type}'] = canada_housing_data_df[f'{dwelling_type}'] * canada_housing_data_df['Avg of Price Range']\n",
    "\n",
    "    # Group by Province and Year and sum up the weighted price\n",
    "    weighted_price_grouped = canada_housing_data_df.groupby(['Province', 'Year'])[f'weighted_price_{dwelling_type}'].sum()\n",
    "\n",
    "    # Group by Province and Year and sum up the absorbed units\n",
    "    absorbed_units_grouped = canada_housing_data_df.groupby(['Province', 'Year'])[f'{dwelling_type}'].sum()\n",
    "\n",
    "    # Merge the two series into a DataFrame\n",
    "    merged = pd.DataFrame(weighted_price_grouped)\n",
    "    merged[f'{dwelling_type}'] = absorbed_units_grouped\n",
    "\n",
    "    # Calculate the weighted average price\n",
    "    merged[f'Weighted_Avg_Price_{dwelling_type}'] = merged[f'weighted_price_{dwelling_type}'] / merged[f'{dwelling_type}']\n",
    "\n",
    "    # Drop the intermediate columns\n",
    "    merged.drop([f'weighted_price_{dwelling_type}', f'{dwelling_type}'], axis=1, inplace=True)\n",
    "\n",
    "    # Merge the result into the housing_price_df DataFrame\n",
    "    if housing_price_df.empty:\n",
    "        housing_price_df = merged\n",
    "    else:\n",
    "        housing_price_df = pd.merge(housing_price_df, merged, on=['Province', 'Year'])\n",
    "\n",
    "housing_price_df = housing_price_df.reset_index()"
   ]
  },
  {
   "cell_type": "code",
   "execution_count": null,
   "id": "220617cb-3b4f-4f51-825d-d5c1a14d8bb2",
   "metadata": {
    "colab": {
     "base_uri": "https://localhost:8080/",
     "height": 206
    },
    "id": "220617cb-3b4f-4f51-825d-d5c1a14d8bb2",
    "outputId": "f68f4118-3724-4e9e-9ae0-90810f6de87b",
    "tags": []
   },
   "outputs": [],
   "source": [
    "housing_price_df.tail()"
   ]
  },
  {
   "cell_type": "code",
   "execution_count": null,
   "id": "90762498-de21-4615-8aa6-be13bf66e770",
   "metadata": {
    "id": "90762498-de21-4615-8aa6-be13bf66e770",
    "tags": []
   },
   "outputs": [],
   "source": [
    "# Define a function to plot trend for each dwelling type\n",
    "def plot_trend(dwelling_type):\n",
    "    # The melt function is used to convert the DataFrame from wide format to long format.\n",
    "    plot_df = pd.melt(housing_price_df, id_vars=['Year', 'Province'], value_vars=[f'Weighted_Avg_Price_{dwelling_type}'])\n",
    "\n",
    "    # Create a line plot of the WAP over years for each province using the hvplot library\n",
    "    trend_plot=plot_df.hvplot.line('Year', 'value', by='Province',width=800).opts(yformatter='%.0f',title=f'Price trend for {dwelling_type}')\n",
    "\n",
    "    return trend_plot"
   ]
  },
  {
   "cell_type": "markdown",
   "id": "ed0dde7f",
   "metadata": {
    "id": "ed0dde7f"
   },
   "source": [
    "Q1.trend across the year--> Province wise"
   ]
  },
  {
   "cell_type": "code",
   "execution_count": null,
   "id": "68a2b684-20c5-496f-903a-8b8dab64cff1",
   "metadata": {
    "colab": {
     "base_uri": "https://localhost:8080/",
     "height": 17
    },
    "id": "68a2b684-20c5-496f-903a-8b8dab64cff1",
    "outputId": "f0aeb9f8-3281-4e26-e983-475395126ca7",
    "tags": []
   },
   "outputs": [],
   "source": [
    "#Question1\n",
    "#Q1.trend across the year--> Province wise\n",
    "\n",
    "# Reset the index of the housing_price_df dataframe\n",
    "housing_price_df.reset_index(inplace=True)\n",
    "\n",
    "#Plot Price Trend for all the dwelling type\n",
    "plot_trend('Single')+plot_trend('Semi')+plot_trend('Row')+plot_trend('Apartment and other')\n"
   ]
  },
  {
   "cell_type": "markdown",
   "id": "dd0ee163",
   "metadata": {
    "id": "dd0ee163"
   },
   "source": [
    "Q2.which province suffered major impact--> benefitted or sufered loss"
   ]
  },
  {
   "cell_type": "code",
   "execution_count": null,
   "id": "07c6285b-2182-452f-b4ad-e59980d80699",
   "metadata": {
    "colab": {
     "base_uri": "https://localhost:8080/",
     "height": 237
    },
    "id": "07c6285b-2182-452f-b4ad-e59980d80699",
    "outputId": "f08014c1-d7aa-4ab4-d940-b473b649bd94",
    "tags": []
   },
   "outputs": [],
   "source": [
    "#Question1\n",
    "#Q2.which province suffered major impact--> benefitted or sufered loss\n",
    "\n",
    "#we are using Single house price as reference for return on housing market.\n",
    "return_house_df=housing_price_df[['Year', 'Province','Weighted_Avg_Price_Single']].copy()\n",
    "return_house_df.set_index(['Year', 'Province'], inplace=True)\n",
    "return_house_df['Annual Return %']=return_house_df.groupby('Province')['Weighted_Avg_Price_Single'].pct_change()\n",
    "return_house_df['Annual Return %']=return_house_df['Annual Return %']*100\n",
    "\n",
    "return_house_df.tail()"
   ]
  },
  {
   "cell_type": "code",
   "execution_count": null,
   "id": "846c5bcf-cce6-4b45-adcc-a3c4d2f622cf",
   "metadata": {
    "colab": {
     "base_uri": "https://localhost:8080/",
     "height": 17
    },
    "id": "846c5bcf-cce6-4b45-adcc-a3c4d2f622cf",
    "outputId": "141666c2-19af-4915-f10e-c76b32478b0e",
    "tags": []
   },
   "outputs": [],
   "source": [
    "CGR = ((return_house_df.loc[2022]['Weighted_Avg_Price_Single'] / return_house_df.loc[2019]['Weighted_Avg_Price_Single']) - 1)*100\n",
    "CGR_df = pd.DataFrame(CGR).rename(columns={\"Weighted_Avg_Price_Single\": \"Cumulative Return %\"})\n",
    "CGR_df.hvplot.bar(rot=30).opts(title=\"Cumulative growth for each province in the past 4 years\")"
   ]
  },
  {
   "cell_type": "code",
   "execution_count": null,
   "id": "e9e935dc-0bd8-4802-b99a-8d48b724795b",
   "metadata": {
    "colab": {
     "base_uri": "https://localhost:8080/",
     "height": 397
    },
    "id": "e9e935dc-0bd8-4802-b99a-8d48b724795b",
    "outputId": "905fb429-7c9b-4c28-d660-6899314ada47",
    "tags": []
   },
   "outputs": [],
   "source": [
    "return_house_df['Annual Return %'].dropna().hvplot.bar(groupby='Year',rot=30,height=400)"
   ]
  },
  {
   "cell_type": "markdown",
   "id": "f647a961",
   "metadata": {
    "id": "f647a961"
   },
   "source": [
    "Q3.most units sold and min units sold --> specific province and Year. --> the price range"
   ]
  },
  {
   "cell_type": "code",
   "execution_count": null,
   "id": "2cdad34c-6608-41f2-9803-099a92e6713d",
   "metadata": {
    "id": "2cdad34c-6608-41f2-9803-099a92e6713d",
    "tags": []
   },
   "outputs": [],
   "source": [
    "#question3\n",
    "#most units sold and min units sold --> specific province and Year. --> the price range\n",
    "#Most popular type of house and price range in each province in each year\n",
    "sales_house_df = canada_housing_data_df.reset_index()\n",
    "\n",
    "sales_house_df = sales_house_df.melt(id_vars=['Year','Province', 'Avg of Price Range'],\n",
    "                                          value_vars=['Single', 'Semi', 'Row', 'Apartment and other'],\n",
    "                                          var_name='House Type',\n",
    "                                          value_name='Units Sold')"
   ]
  },
  {
   "cell_type": "code",
   "execution_count": null,
   "id": "d4611d2e-c893-4e89-af35-10d14385ed1d",
   "metadata": {
    "colab": {
     "base_uri": "https://localhost:8080/",
     "height": 206
    },
    "id": "d4611d2e-c893-4e89-af35-10d14385ed1d",
    "outputId": "77883959-3e6a-498c-bef0-8b3d6c554869",
    "tags": []
   },
   "outputs": [],
   "source": [
    "grouped_sales_house_df=sales_house_df.groupby(['Province', 'Year', 'House Type'])['Units Sold'].sum().reset_index()\n",
    "grouped_sales_house_df.tail()"
   ]
  },
  {
   "cell_type": "code",
   "execution_count": null,
   "id": "14592f8e-19df-4025-a318-ffef50088d9c",
   "metadata": {
    "colab": {
     "base_uri": "https://localhost:8080/",
     "height": 1000
    },
    "id": "14592f8e-19df-4025-a318-ffef50088d9c",
    "outputId": "a5601580-0367-4198-f683-8dba87af5a05",
    "tags": []
   },
   "outputs": [],
   "source": [
    "idx = grouped_sales_house_df.groupby(['Province', 'Year'])['Units Sold'].idxmax()\n",
    "most_popular_type_df=grouped_sales_house_df.loc[idx]\n",
    "most_popular_type_df.tail()"
   ]
  },
  {
   "cell_type": "code",
   "execution_count": null,
   "id": "302ee39f",
   "metadata": {
    "id": "302ee39f",
    "tags": []
   },
   "outputs": [],
   "source": [
    "idx_min = grouped_sales_house_df.groupby(['Province', 'Year'])['Units Sold'].idxmin()\n",
    "min_units_sold_df = grouped_sales_house_df.loc[idx_min]"
   ]
  },
  {
   "cell_type": "code",
   "execution_count": null,
   "id": "b9de6038-b684-4578-9aef-7963f2f61736",
   "metadata": {},
   "outputs": [],
   "source": [
    "df=most_popular_type_df[most_popular_type_df['Year']==2022]\n",
    "df=df.merge(lat_lon_df, on='Province', how='left')\n",
    "df"
   ]
  },
  {
   "cell_type": "code",
   "execution_count": null,
   "id": "27496416-ae7a-4be4-b495-d231d18264bd",
   "metadata": {},
   "outputs": [],
   "source": [
    "map_plot = df.hvplot.points(\n",
    "    'Longitude', \n",
    "    'Latitude', \n",
    "    geo=True, \n",
    "    size='Units Sold',\n",
    "    color='House Type',\n",
    "    frame_width=700,\n",
    "    frame_height=500,\n",
    "    title='Most popular house type by provinces',\n",
    "    scale=0.6\n",
    "    )"
   ]
  },
  {
   "cell_type": "code",
   "execution_count": null,
   "id": "277abc49-05d8-495e-b4e8-88bb703a3a04",
   "metadata": {},
   "outputs": [],
   "source": [
    "label_plot=df.hvplot.labels(\n",
    "    'Longitude', \n",
    "    'Latitude', \n",
    "    text='Province',\n",
    "    geo=True, \n",
    "    color='white',\n",
    "    frame_width=700,\n",
    "    frame_height=500,\n",
    "    text_font_size='8pt',\n",
    "    text_alpha=0.5\n",
    "    )"
   ]
  },
  {
   "cell_type": "code",
   "execution_count": 242,
   "id": "4ed39f1b-14ff-41b8-bb90-ee8ea9432a04",
   "metadata": {},
   "outputs": [
    {
     "data": {},
     "metadata": {},
     "output_type": "display_data"
    },
    {
     "data": {
      "application/vnd.holoviews_exec.v0+json": "",
      "text/html": [
       "<div id='18048'>\n",
       "  <div class=\"bk-root\" id=\"a4e3251b-0f1e-4acf-90d4-80c92a390e82\" data-root-id=\"18048\"></div>\n",
       "</div>\n",
       "<script type=\"application/javascript\">(function(root) {\n",
       "  function embed_document(root) {\n",
       "    var docs_json = {\"d3a9996b-8a36-46f4-8d13-50b74e559947\":{\"defs\":[{\"extends\":null,\"module\":null,\"name\":\"ReactiveHTML1\",\"overrides\":[],\"properties\":[]},{\"extends\":null,\"module\":null,\"name\":\"FlexBox1\",\"overrides\":[],\"properties\":[{\"default\":\"flex-start\",\"kind\":null,\"name\":\"align_content\"},{\"default\":\"flex-start\",\"kind\":null,\"name\":\"align_items\"},{\"default\":\"row\",\"kind\":null,\"name\":\"flex_direction\"},{\"default\":\"wrap\",\"kind\":null,\"name\":\"flex_wrap\"},{\"default\":\"flex-start\",\"kind\":null,\"name\":\"justify_content\"}]},{\"extends\":null,\"module\":null,\"name\":\"GridStack1\",\"overrides\":[],\"properties\":[{\"default\":\"warn\",\"kind\":null,\"name\":\"mode\"},{\"default\":null,\"kind\":null,\"name\":\"ncols\"},{\"default\":null,\"kind\":null,\"name\":\"nrows\"},{\"default\":true,\"kind\":null,\"name\":\"allow_resize\"},{\"default\":true,\"kind\":null,\"name\":\"allow_drag\"},{\"default\":[],\"kind\":null,\"name\":\"state\"}]},{\"extends\":null,\"module\":null,\"name\":\"click1\",\"overrides\":[],\"properties\":[{\"default\":\"\",\"kind\":null,\"name\":\"terminal_output\"},{\"default\":\"\",\"kind\":null,\"name\":\"debug_name\"},{\"default\":0,\"kind\":null,\"name\":\"clears\"}]},{\"extends\":null,\"module\":null,\"name\":\"NotificationAreaBase1\",\"overrides\":[],\"properties\":[{\"default\":\"bottom-right\",\"kind\":null,\"name\":\"position\"},{\"default\":0,\"kind\":null,\"name\":\"_clear\"}]},{\"extends\":null,\"module\":null,\"name\":\"NotificationArea1\",\"overrides\":[],\"properties\":[{\"default\":[],\"kind\":null,\"name\":\"notifications\"},{\"default\":\"bottom-right\",\"kind\":null,\"name\":\"position\"},{\"default\":0,\"kind\":null,\"name\":\"_clear\"},{\"default\":[{\"background\":\"#ffc107\",\"icon\":{\"className\":\"fas fa-exclamation-triangle\",\"color\":\"white\",\"tagName\":\"i\"},\"type\":\"warning\"},{\"background\":\"#007bff\",\"icon\":{\"className\":\"fas fa-info-circle\",\"color\":\"white\",\"tagName\":\"i\"},\"type\":\"info\"}],\"kind\":null,\"name\":\"types\"}]},{\"extends\":null,\"module\":null,\"name\":\"Notification\",\"overrides\":[],\"properties\":[{\"default\":null,\"kind\":null,\"name\":\"background\"},{\"default\":3000,\"kind\":null,\"name\":\"duration\"},{\"default\":null,\"kind\":null,\"name\":\"icon\"},{\"default\":\"\",\"kind\":null,\"name\":\"message\"},{\"default\":null,\"kind\":null,\"name\":\"notification_type\"},{\"default\":false,\"kind\":null,\"name\":\"_destroyed\"}]},{\"extends\":null,\"module\":null,\"name\":\"TemplateActions1\",\"overrides\":[],\"properties\":[{\"default\":0,\"kind\":null,\"name\":\"open_modal\"},{\"default\":0,\"kind\":null,\"name\":\"close_modal\"}]},{\"extends\":null,\"module\":null,\"name\":\"MaterialTemplateActions1\",\"overrides\":[],\"properties\":[{\"default\":0,\"kind\":null,\"name\":\"open_modal\"},{\"default\":0,\"kind\":null,\"name\":\"close_modal\"}]}],\"roots\":{\"references\":[{\"attributes\":{\"match_aspect\":true,\"overlay\":{\"id\":\"18088\"}},\"id\":\"18086\",\"type\":\"BoxZoomTool\"},{\"attributes\":{\"callback\":null,\"formatters\":{\"$x\":{\"id\":\"18149\"},\"$y\":{\"id\":\"18150\"}},\"renderers\":[{\"id\":\"18139\"}],\"tags\":[\"hv_created\"],\"tooltips\":[[\"Longitude\",\"$x{custom}\"],[\"Latitude\",\"$y{custom}\"],[\"House Type\",\"@{House_Type}\"],[\"Units Sold\",\"@{Units_Sold}\"]]},\"id\":\"18060\",\"type\":\"HoverTool\"},{\"attributes\":{\"axis_label\":\"x\",\"coordinates\":null,\"formatter\":{\"id\":\"18100\"},\"group\":null,\"major_label_policy\":{\"id\":\"18105\"},\"ticker\":{\"id\":\"18099\"}},\"id\":\"18075\",\"type\":\"LinearAxis\"},{\"attributes\":{\"text\":{\"field\":\"Province\"},\"text_align\":{\"value\":\"center\"},\"text_alpha\":{\"value\":0.5},\"text_baseline\":{\"value\":\"middle\"},\"text_color\":{\"value\":\"black\"},\"text_font_size\":{\"value\":\"8pt\"},\"x\":{\"field\":\"Longitude\"},\"y\":{\"field\":\"Latitude\"}},\"id\":\"18155\",\"type\":\"Text\"},{\"attributes\":{\"angle\":{\"value\":0},\"text\":{\"field\":\"Province\"},\"text_align\":{\"value\":\"center\"},\"text_alpha\":{\"value\":0.5},\"text_baseline\":{\"value\":\"middle\"},\"text_color\":{\"value\":\"black\"},\"text_font_size\":{\"value\":\"8pt\"},\"text_font_style\":{\"value\":\"normal\"},\"text_line_height\":{\"value\":1.2},\"x\":{\"field\":\"Longitude\"},\"x_offset\":{\"value\":0},\"y\":{\"field\":\"Latitude\"},\"y_offset\":{\"value\":0}},\"id\":\"18161\",\"type\":\"Text\"},{\"attributes\":{},\"id\":\"18084\",\"type\":\"PanTool\"},{\"attributes\":{\"dimension\":\"lon\"},\"id\":\"18099\",\"type\":\"MercatorTicker\"},{\"attributes\":{\"children\":[{\"id\":\"18049\"},{\"id\":\"18066\"},{\"id\":\"18170\"}],\"margin\":[0,0,0,0],\"name\":\"Row20601\",\"tags\":[\"embedded\"]},\"id\":\"18048\",\"type\":\"Row\"},{\"attributes\":{\"attribution\":\"&copy; <a href=\\\"https://www.openstreetmap.org/copyright\\\">OpenStreetMap</a> contributors\",\"url\":\"https://c.tile.openstreetmap.org/{Z}/{X}/{Y}.png\"},\"id\":\"18125\",\"type\":\"WMTSTileSource\"},{\"attributes\":{\"data\":{\"House_Type\":[\"Single\",\"Apartment and other\",\"Single\",\"Single\",\"Single\",\"Single\",\"Apartment and other\",\"Semi\",\"Apartment and other\",\"Single\"],\"Latitude\":{\"__ndarray__\":\"OTs8h1IVXEGGpgLstydbQUOkvRhsJl1BU3bq3ThbVkG2mvK22btaQXPFHV/EcVVBxTnT9TCXWEEzW46zFTRWQbiq53pVo1pBOTs8h1IVXEE=\",\"dtype\":\"float64\",\"order\":\"little\",\"shape\":[10]},\"Longitude\":{\"__ndarray__\":\"DocertlqaMHOUHaFUBprwSLenPH79mTB2UVhIz8YXMG079aQSnxYwR3k4PrBwFrBLCz1ljEMYsEd5OD6wcBawXX9wBa7uV3BMVLFQKeBZsE=\",\"dtype\":\"float64\",\"order\":\"little\",\"shape\":[10]},\"Units_Sold\":[9518,12304,1280,461,264,929,20456,106,5086,1119],\"color\":[\"Single\",\"Apartment and other\",\"Single\",\"Single\",\"Single\",\"Single\",\"Apartment and other\",\"Semi\",\"Apartment and other\",\"Single\"],\"size\":{\"__ndarray__\":\"TPzIUqBETUCXkZ1cdaNQQGPyT1RcdzVAs5TjHN3DKUB1dg7BaH8jQP5oNsKmSTJAwJSayCN0VUAJZ8GZorUYQAusA34VZUVASMx10yQSNEA=\",\"dtype\":\"float64\",\"order\":\"little\",\"shape\":[10]}},\"selected\":{\"id\":\"18132\"},\"selection_policy\":{\"id\":\"18144\"}},\"id\":\"18131\",\"type\":\"ColumnDataSource\"},{\"attributes\":{\"source\":{\"id\":\"18131\"}},\"id\":\"18140\",\"type\":\"CDSView\"},{\"attributes\":{},\"id\":\"18167\",\"type\":\"UnionRenderers\"},{\"attributes\":{\"zoom_on_axis\":false},\"id\":\"18085\",\"type\":\"WheelZoomTool\"},{\"attributes\":{},\"id\":\"18071\",\"type\":\"LinearScale\"},{\"attributes\":{\"margin\":[5,5,5,5],\"name\":\"HSpacer20605\",\"sizing_mode\":\"stretch_width\"},\"id\":\"18049\",\"type\":\"Spacer\"},{\"attributes\":{\"callback\":null,\"formatters\":{\"$x\":{\"id\":\"18159\"},\"$y\":{\"id\":\"18160\"}},\"renderers\":[{\"id\":\"18157\"}],\"tags\":[\"hv_created\"],\"tooltips\":[[\"Longitude\",\"$x{custom}\"],[\"Latitude\",\"$y{custom}\"],[\"Province\",\"@{Province}\"]]},\"id\":\"18063\",\"type\":\"HoverTool\"},{\"attributes\":{\"axis\":{\"id\":\"18079\"},\"coordinates\":null,\"dimension\":1,\"grid_line_color\":null,\"group\":null,\"ticker\":null},\"id\":\"18082\",\"type\":\"Grid\"},{\"attributes\":{\"click_policy\":\"mute\",\"coordinates\":null,\"group\":null,\"items\":[{\"id\":\"18148\"}],\"location\":[0,0]},\"id\":\"18147\",\"type\":\"Legend\"},{\"attributes\":{\"code\":\"\\n        var projections = Bokeh.require(\\\"core/util/projections\\\");\\n        var x = special_vars.data_x\\n        var y = special_vars.data_y\\n        var coords = projections.wgs84_mercator.invert(x, y)\\n        return \\\"\\\" + (coords[1]).toFixed(4)\\n    \"},\"id\":\"18160\",\"type\":\"CustomJSHover\"},{\"attributes\":{\"fill_color\":{\"field\":\"color\",\"transform\":{\"id\":\"18130\"}},\"hatch_color\":{\"field\":\"color\",\"transform\":{\"id\":\"18130\"}},\"line_color\":{\"field\":\"color\",\"transform\":{\"id\":\"18130\"}},\"size\":{\"field\":\"size\"},\"x\":{\"field\":\"Longitude\"},\"y\":{\"field\":\"Latitude\"}},\"id\":\"18136\",\"type\":\"Scatter\"},{\"attributes\":{\"code\":\"\\n        var projections = Bokeh.require(\\\"core/util/projections\\\");\\n        var x = special_vars.data_x\\n        var y = special_vars.data_y\\n        var coords = projections.wgs84_mercator.invert(x, y)\\n        return \\\"\\\" + (coords[1]).toFixed(4)\\n    \"},\"id\":\"18150\",\"type\":\"CustomJSHover\"},{\"attributes\":{\"code\":\"\\n        var projections = Bokeh.require(\\\"core/util/projections\\\");\\n        var x = special_vars.data_x\\n        var y = special_vars.data_y\\n        var coords = projections.wgs84_mercator.invert(x, y)\\n        return \\\"\\\" + (coords[0]).toFixed(4)\\n    \"},\"id\":\"18149\",\"type\":\"CustomJSHover\"},{\"attributes\":{},\"id\":\"18073\",\"type\":\"LinearScale\"},{\"attributes\":{\"end\":9811495.479758352,\"min_interval\":5,\"reset_end\":9811495.479758352,\"reset_start\":3451546.3491990296,\"start\":3451546.3491990296,\"tags\":[[[\"Latitude\",\"Latitude\",null]]]},\"id\":\"18057\",\"type\":\"Range1d\"},{\"attributes\":{\"fill_alpha\":{\"value\":0.1},\"fill_color\":{\"field\":\"color\",\"transform\":{\"id\":\"18130\"}},\"hatch_alpha\":{\"value\":0.1},\"hatch_color\":{\"field\":\"color\",\"transform\":{\"id\":\"18130\"}},\"line_alpha\":{\"value\":0.1},\"line_color\":{\"field\":\"color\",\"transform\":{\"id\":\"18130\"}},\"size\":{\"field\":\"size\"},\"x\":{\"field\":\"Longitude\"},\"y\":{\"field\":\"Latitude\"}},\"id\":\"18135\",\"type\":\"Scatter\"},{\"attributes\":{\"code\":\"\\n        var projections = Bokeh.require(\\\"core/util/projections\\\");\\n        var x = special_vars.data_x\\n        var y = special_vars.data_y\\n        var coords = projections.wgs84_mercator.invert(x, y)\\n        return \\\"\\\" + (coords[0]).toFixed(4)\\n    \"},\"id\":\"18159\",\"type\":\"CustomJSHover\"},{\"attributes\":{\"dimension\":\"lat\"},\"id\":\"18102\",\"type\":\"MercatorTickFormatter\"},{\"attributes\":{\"dimension\":\"lon\"},\"id\":\"18100\",\"type\":\"MercatorTickFormatter\"},{\"attributes\":{\"source\":{\"id\":\"18151\"}},\"id\":\"18158\",\"type\":\"CDSView\"},{\"attributes\":{\"coordinates\":null,\"data_source\":{\"id\":\"18131\"},\"glyph\":{\"id\":\"18134\"},\"group\":null,\"hover_glyph\":{\"id\":\"18137\"},\"muted_glyph\":{\"id\":\"18138\"},\"nonselection_glyph\":{\"id\":\"18135\"},\"selection_glyph\":{\"id\":\"18136\"},\"view\":{\"id\":\"18140\"}},\"id\":\"18139\",\"type\":\"GlyphRenderer\"},{\"attributes\":{\"end\":-5862234.825514224,\"min_interval\":5,\"reset_end\":-5862234.825514224,\"reset_start\":-14766163.608297275,\"start\":-14766163.608297275,\"tags\":[[[\"Longitude\",\"Longitude\",null]]]},\"id\":\"18056\",\"type\":\"Range1d\"},{\"attributes\":{\"margin\":[5,5,5,5],\"name\":\"HSpacer20606\",\"sizing_mode\":\"stretch_width\"},\"id\":\"18170\",\"type\":\"Spacer\"},{\"attributes\":{\"label\":{\"field\":\"color\"},\"renderers\":[{\"id\":\"18139\"}]},\"id\":\"18148\",\"type\":\"LegendItem\"},{\"attributes\":{},\"id\":\"18083\",\"type\":\"SaveTool\"},{\"attributes\":{},\"id\":\"18112\",\"type\":\"AllLabels\"},{\"attributes\":{},\"id\":\"18105\",\"type\":\"AllLabels\"},{\"attributes\":{},\"id\":\"18144\",\"type\":\"UnionRenderers\"},{\"attributes\":{},\"id\":\"18152\",\"type\":\"Selection\"},{\"attributes\":{\"data\":{\"Latitude\":{\"__ndarray__\":\"OTs8h1IVXEGGpgLstydbQUOkvRhsJl1BU3bq3ThbVkG2mvK22btaQXPFHV/EcVVBxTnT9TCXWEEzW46zFTRWQbiq53pVo1pBOTs8h1IVXEE=\",\"dtype\":\"float64\",\"order\":\"little\",\"shape\":[10]},\"Longitude\":{\"__ndarray__\":\"DocertlqaMHOUHaFUBprwSLenPH79mTB2UVhIz8YXMG079aQSnxYwR3k4PrBwFrBLCz1ljEMYsEd5OD6wcBawXX9wBa7uV3BMVLFQKeBZsE=\",\"dtype\":\"float64\",\"order\":\"little\",\"shape\":[10]},\"Province\":[\"Alberta\",\"British Columbia\",\"Manitoba\",\"New Brunswick\",\"Newfoundland and Labrador\",\"Nova Scotia\",\"Ontario\",\"Prince Edward Island\",\"Quebec\",\"Saskatchewan\"]},\"selected\":{\"id\":\"18152\"},\"selection_policy\":{\"id\":\"18167\"}},\"id\":\"18151\",\"type\":\"ColumnDataSource\"},{\"attributes\":{\"coordinates\":null,\"group\":null,\"text\":\"Most popular house type by provinces\",\"text_color\":\"black\",\"text_font_size\":\"12pt\"},\"id\":\"18067\",\"type\":\"Title\"},{\"attributes\":{},\"id\":\"18087\",\"type\":\"ResetTool\"},{\"attributes\":{\"fill_color\":{\"field\":\"color\",\"transform\":{\"id\":\"18130\"}},\"hatch_color\":{\"field\":\"color\",\"transform\":{\"id\":\"18130\"}},\"line_color\":{\"field\":\"color\",\"transform\":{\"id\":\"18130\"}},\"size\":{\"field\":\"size\"},\"x\":{\"field\":\"Longitude\"},\"y\":{\"field\":\"Latitude\"}},\"id\":\"18137\",\"type\":\"Scatter\"},{\"attributes\":{\"dimension\":\"lat\"},\"id\":\"18101\",\"type\":\"MercatorTicker\"},{\"attributes\":{\"factors\":[\"Single\",\"Apartment and other\",\"Semi\"],\"palette\":[\"#1f77b3\",\"#ff7e0e\",\"#2ba02b\"]},\"id\":\"18130\",\"type\":\"CategoricalColorMapper\"},{\"attributes\":{\"coordinates\":null,\"data_source\":{\"id\":\"18151\"},\"glyph\":{\"id\":\"18154\"},\"group\":null,\"hover_glyph\":null,\"muted_glyph\":{\"id\":\"18156\"},\"nonselection_glyph\":{\"id\":\"18155\"},\"selection_glyph\":{\"id\":\"18161\"},\"view\":{\"id\":\"18158\"}},\"id\":\"18157\",\"type\":\"GlyphRenderer\"},{\"attributes\":{},\"id\":\"18132\",\"type\":\"Selection\"},{\"attributes\":{\"text\":{\"field\":\"Province\"},\"text_align\":{\"value\":\"center\"},\"text_alpha\":{\"value\":0.5},\"text_baseline\":{\"value\":\"middle\"},\"text_color\":{\"value\":\"black\"},\"text_font_size\":{\"value\":\"8pt\"},\"x\":{\"field\":\"Longitude\"},\"y\":{\"field\":\"Latitude\"}},\"id\":\"18156\",\"type\":\"Text\"},{\"attributes\":{\"alpha\":0.5,\"coordinates\":null,\"group\":null,\"level\":\"glyph\",\"tile_source\":{\"id\":\"18125\"}},\"id\":\"18128\",\"type\":\"TileRenderer\"},{\"attributes\":{\"tools\":[{\"id\":\"18060\"},{\"id\":\"18063\"},{\"id\":\"18083\"},{\"id\":\"18084\"},{\"id\":\"18085\"},{\"id\":\"18086\"},{\"id\":\"18087\"}]},\"id\":\"18089\",\"type\":\"Toolbar\"},{\"attributes\":{\"fill_color\":{\"field\":\"color\",\"transform\":{\"id\":\"18130\"}},\"hatch_color\":{\"field\":\"color\",\"transform\":{\"id\":\"18130\"}},\"line_color\":{\"field\":\"color\",\"transform\":{\"id\":\"18130\"}},\"size\":{\"field\":\"size\"},\"x\":{\"field\":\"Longitude\"},\"y\":{\"field\":\"Latitude\"}},\"id\":\"18134\",\"type\":\"Scatter\"},{\"attributes\":{\"text\":{\"field\":\"Province\"},\"text_align\":{\"value\":\"center\"},\"text_alpha\":{\"value\":0.5},\"text_baseline\":{\"value\":\"middle\"},\"text_color\":{\"value\":\"black\"},\"text_font_size\":{\"value\":\"8pt\"},\"x\":{\"field\":\"Longitude\"},\"y\":{\"field\":\"Latitude\"}},\"id\":\"18154\",\"type\":\"Text\"},{\"attributes\":{\"bottom_units\":\"screen\",\"coordinates\":null,\"fill_alpha\":0.5,\"fill_color\":\"lightgrey\",\"group\":null,\"left_units\":\"screen\",\"level\":\"overlay\",\"line_alpha\":1.0,\"line_color\":\"black\",\"line_dash\":[4,4],\"line_width\":2,\"right_units\":\"screen\",\"syncable\":false,\"top_units\":\"screen\"},\"id\":\"18088\",\"type\":\"BoxAnnotation\"},{\"attributes\":{\"axis_label\":\"y\",\"coordinates\":null,\"formatter\":{\"id\":\"18102\"},\"group\":null,\"major_label_policy\":{\"id\":\"18112\"},\"ticker\":{\"id\":\"18101\"}},\"id\":\"18079\",\"type\":\"LinearAxis\"},{\"attributes\":{\"below\":[{\"id\":\"18075\"}],\"center\":[{\"id\":\"18078\"},{\"id\":\"18082\"}],\"frame_height\":500,\"frame_width\":700,\"height\":null,\"left\":[{\"id\":\"18079\"}],\"margin\":[5,5,5,5],\"match_aspect\":true,\"min_border_bottom\":10,\"min_border_left\":10,\"min_border_right\":10,\"min_border_top\":10,\"renderers\":[{\"id\":\"18128\"},{\"id\":\"18139\"},{\"id\":\"18157\"}],\"right\":[{\"id\":\"18147\"}],\"sizing_mode\":\"fixed\",\"title\":{\"id\":\"18067\"},\"toolbar\":{\"id\":\"18089\"},\"width\":null,\"x_range\":{\"id\":\"18056\"},\"x_scale\":{\"id\":\"18071\"},\"y_range\":{\"id\":\"18057\"},\"y_scale\":{\"id\":\"18073\"}},\"id\":\"18066\",\"subtype\":\"Figure\",\"type\":\"Plot\"},{\"attributes\":{\"fill_alpha\":{\"value\":0.2},\"fill_color\":{\"field\":\"color\",\"transform\":{\"id\":\"18130\"}},\"hatch_alpha\":{\"value\":0.2},\"hatch_color\":{\"field\":\"color\",\"transform\":{\"id\":\"18130\"}},\"line_alpha\":{\"value\":0.2},\"line_color\":{\"field\":\"color\",\"transform\":{\"id\":\"18130\"}},\"size\":{\"field\":\"size\"},\"x\":{\"field\":\"Longitude\"},\"y\":{\"field\":\"Latitude\"}},\"id\":\"18138\",\"type\":\"Scatter\"},{\"attributes\":{\"axis\":{\"id\":\"18075\"},\"coordinates\":null,\"grid_line_color\":null,\"group\":null,\"ticker\":null},\"id\":\"18078\",\"type\":\"Grid\"}],\"root_ids\":[\"18048\"]},\"title\":\"Bokeh Application\",\"version\":\"2.4.3\"}};\n",
       "    var render_items = [{\"docid\":\"d3a9996b-8a36-46f4-8d13-50b74e559947\",\"root_ids\":[\"18048\"],\"roots\":{\"18048\":\"a4e3251b-0f1e-4acf-90d4-80c92a390e82\"}}];\n",
       "    root.Bokeh.embed.embed_items_notebook(docs_json, render_items);\n",
       "  }\n",
       "  if (root.Bokeh !== undefined && root.Bokeh.Panel !== undefined) {\n",
       "    embed_document(root);\n",
       "  } else {\n",
       "    var attempts = 0;\n",
       "    var timer = setInterval(function(root) {\n",
       "      if (root.Bokeh !== undefined && root.Bokeh.Panel !== undefined) {\n",
       "        clearInterval(timer);\n",
       "        embed_document(root);\n",
       "      } else if (document.readyState == \"complete\") {\n",
       "        attempts++;\n",
       "        if (attempts > 200) {\n",
       "          clearInterval(timer);\n",
       "          console.log(\"Bokeh: ERROR: Unable to run BokehJS code because BokehJS library is missing\");\n",
       "        }\n",
       "      }\n",
       "    }, 25, root)\n",
       "  }\n",
       "})(window);</script>"
      ],
      "text/plain": [
       ":Overlay\n",
       "   .Tiles.I  :Tiles   [x,y]\n",
       "   .Points.I :Points   [Longitude,Latitude]   (House Type,Units Sold)\n",
       "   .Labels.I :Labels   [Longitude,Latitude]   (Province)"
      ]
     },
     "execution_count": 242,
     "metadata": {
      "application/vnd.holoviews_exec.v0+json": {
       "id": "18048"
      }
     },
     "output_type": "execute_result"
    }
   ],
   "source": [
    "tiles = hv.element.tiles.OSM().opts(alpha=0.5, width=700, height=500)\n",
    "\n",
    "final_plot = tiles*map_plot*label_plot\n",
    "final_plot"
   ]
  },
  {
   "cell_type": "code",
   "execution_count": null,
   "id": "893d3402",
   "metadata": {
    "colab": {
     "base_uri": "https://localhost:8080/",
     "height": 951
    },
    "id": "893d3402",
    "outputId": "701a5d8a-cbe7-40fa-d990-c90b6b3d3317",
    "tags": []
   },
   "outputs": [],
   "source": [
    "# Data for bubble plot\n",
    "province_year = most_popular_type_df['Province'] + ' - ' + most_popular_type_df['Year'].astype(str)\n",
    "units_sold = most_popular_type_df['Units Sold']\n",
    "bubble_sizes = units_sold / 100  # Adjust the scaling factor as per your data\n",
    "\n",
    "# Create a scatter plot with bubble sizes representing units sold\n",
    "plt.figure(figsize=(12, 8))\n",
    "plt.scatter(province_year, units_sold, s=bubble_sizes, alpha=0.5)\n",
    "\n",
    "# Customize the plot\n",
    "plt.xlabel('Province - Year')\n",
    "plt.ylabel('Units Sold')\n",
    "plt.title('Units Sold - Province and Year')\n",
    "\n",
    "# Adjust the x-axis labels rotation for better visibility\n",
    "plt.xticks(rotation=90)\n",
    "\n",
    "# Show the plot\n",
    "plt.show()"
   ]
  },
  {
   "cell_type": "markdown",
   "id": "bcf2c653-5510-4532-9f73-fbc0cc7dedce",
   "metadata": {
    "id": "bcf2c653-5510-4532-9f73-fbc0cc7dedce"
   },
   "source": [
    "Q4.stock beta for real estate companies."
   ]
  },
  {
   "cell_type": "code",
   "execution_count": null,
   "id": "cc9a729f-06cc-43e3-ae1b-b60e56e505e2",
   "metadata": {
    "colab": {
     "base_uri": "https://localhost:8080/",
     "height": 394
    },
    "id": "cc9a729f-06cc-43e3-ae1b-b60e56e505e2",
    "outputId": "bef54aaa-235b-4a5d-94b9-ad710469170a",
    "tags": []
   },
   "outputs": [],
   "source": [
    "# Question4\n",
    "# Q4.stock beta for real estate companies.\n",
    "# Reading REI.UN\n",
    "REI_UN_csv = Path(\"Resources\",\"REI.UN.csv\")\n",
    "REI_UN_df = pd.read_csv(REI_UN_csv, index_col=\"Date\", parse_dates=True)\n",
    "REI_UN_df.sort_index()\n",
    "REI_UN_df.head(10)"
   ]
  },
  {
   "cell_type": "code",
   "execution_count": null,
   "id": "5c336d48-0cd5-4752-b580-bc9aa742bb9e",
   "metadata": {
    "colab": {
     "base_uri": "https://localhost:8080/",
     "height": 138
    },
    "id": "5c336d48-0cd5-4752-b580-bc9aa742bb9e",
    "outputId": "abf811e3-fbb1-4257-8be9-264288f2f989",
    "tags": []
   },
   "outputs": [],
   "source": [
    "# Calculate Daily Returns\n",
    "REI_UN_returns =REI_UN_df['Close'].pct_change().dropna()\n",
    "\n",
    "REI_UN_returns.name = 'RioCan Real Estate'\n",
    "\n",
    "display(REI_UN_returns.head())\n"
   ]
  },
  {
   "cell_type": "code",
   "execution_count": null,
   "id": "96ca03cb-4221-4226-8638-680f422978fa",
   "metadata": {
    "colab": {
     "base_uri": "https://localhost:8080/",
     "height": 394
    },
    "id": "96ca03cb-4221-4226-8638-680f422978fa",
    "outputId": "24f355d7-045f-46dc-c8b5-619706b07144",
    "tags": []
   },
   "outputs": [],
   "source": [
    "# Reading TCN.TO\n",
    "TCN_TO_csv = Path(\"Resources\",\"TCN.TO.csv\")\n",
    "TCN_TO_dF = pd.read_csv(TCN_TO_csv, index_col=\"Date\", parse_dates=True)\n",
    "TCN_TO_dF.sort_index()\n",
    "TCN_TO_dF.head(10)"
   ]
  },
  {
   "cell_type": "code",
   "execution_count": null,
   "id": "7b58735e-883e-4618-8e23-31abc6976ee7",
   "metadata": {
    "colab": {
     "base_uri": "https://localhost:8080/",
     "height": 138
    },
    "id": "7b58735e-883e-4618-8e23-31abc6976ee7",
    "outputId": "1617a0c0-c17a-4a4f-fb07-e9483ffdbd33",
    "tags": []
   },
   "outputs": [],
   "source": [
    "# Calculate Daily Returns\n",
    "TCN_TO_returns =TCN_TO_dF['Close'].pct_change().dropna()\n",
    "TCN_TO_returns.name = 'Tricon Residential'\n",
    "display(TCN_TO_returns.head())\n"
   ]
  },
  {
   "cell_type": "code",
   "execution_count": null,
   "id": "68082951-7e2c-4ae3-8244-f85a3642bae5",
   "metadata": {
    "colab": {
     "base_uri": "https://localhost:8080/",
     "height": 394
    },
    "id": "68082951-7e2c-4ae3-8244-f85a3642bae5",
    "outputId": "d5eaee51-53f6-4da2-9d6d-a85b09142d5e",
    "tags": []
   },
   "outputs": [],
   "source": [
    "# Reading sp 500 tsx\n",
    "sptsx_csv = Path(\"Resources\",\"sptsx.csv\")\n",
    "sptsx_dF = pd.read_csv(sptsx_csv, index_col=\"Date\", parse_dates=True)\n",
    "sptsx_dF.sort_index()\n",
    "sptsx_dF.head(10)"
   ]
  },
  {
   "cell_type": "code",
   "execution_count": null,
   "id": "3945f723-784d-4c60-a3b9-15296cd7a0af",
   "metadata": {
    "colab": {
     "base_uri": "https://localhost:8080/",
     "height": 237
    },
    "id": "3945f723-784d-4c60-a3b9-15296cd7a0af",
    "outputId": "a8919df4-6ad3-4607-d6d3-ae741eeebf90",
    "tags": []
   },
   "outputs": [],
   "source": [
    "# Calculate Daily Returns\n",
    "sptsx_return =sptsx_dF['Close'].pct_change().dropna()\n",
    "sptsx_return.name = 'sp tsx'\n",
    "display(sptsx_dF.head())"
   ]
  },
  {
   "cell_type": "code",
   "execution_count": null,
   "id": "f2dc2748-bc3d-434b-a58d-63fd28f902a6",
   "metadata": {
    "colab": {
     "base_uri": "https://localhost:8080/",
     "height": 394
    },
    "id": "f2dc2748-bc3d-434b-a58d-63fd28f902a6",
    "outputId": "73b55556-2c83-473d-c355-b17051ebcddd",
    "tags": []
   },
   "outputs": [],
   "source": [
    "portfolio_returns = pd.concat([REI_UN_returns, TCN_TO_returns, sptsx_return], axis=\"columns\", join=\"inner\")\n",
    "portfolio_returns = portfolio_returns.sort_index()\n",
    "portfolio_returns.tail(10)"
   ]
  },
  {
   "cell_type": "code",
   "execution_count": null,
   "id": "646a6847-8a4f-4a80-a5a8-b2e8ae82631f",
   "metadata": {
    "colab": {
     "base_uri": "https://localhost:8080/",
     "height": 439
    },
    "id": "646a6847-8a4f-4a80-a5a8-b2e8ae82631f",
    "outputId": "dbf978e5-9b6c-42d0-85c4-7a3fabaa58e7",
    "tags": []
   },
   "outputs": [],
   "source": [
    "# Plot daily returns of all portfolios\n",
    "portfolio_returns.plot()"
   ]
  },
  {
   "cell_type": "code",
   "execution_count": null,
   "id": "b90c1a44-2cda-433d-8481-abaa83e9e6fb",
   "metadata": {
    "colab": {
     "base_uri": "https://localhost:8080/",
     "height": 461
    },
    "id": "b90c1a44-2cda-433d-8481-abaa83e9e6fb",
    "outputId": "8a487c4a-94f8-4666-da5f-818445f6a1ea",
    "tags": []
   },
   "outputs": [],
   "source": [
    "# Calculate cumulative returns of all portfolios\n",
    "\n",
    "cumulative_returns = (1 + portfolio_returns).cumprod()\n",
    "# Plot cumulative returns\n",
    "cumulative_returns.plot(title=\"Cumulative Returns of All Portfolios\")\n",
    "plt.savefig('plot.jpg')"
   ]
  },
  {
   "cell_type": "code",
   "execution_count": null,
   "id": "fbe2eeb5-a5c2-4f16-9795-0eddd3d8e0e7",
   "metadata": {
    "colab": {
     "base_uri": "https://localhost:8080/",
     "height": 143
    },
    "id": "fbe2eeb5-a5c2-4f16-9795-0eddd3d8e0e7",
    "outputId": "06fb9768-d027-4d1d-a114-a4ba8e143b4b",
    "tags": []
   },
   "outputs": [],
   "source": [
    "correlation = cumulative_returns.corr()\n",
    "correlation"
   ]
  },
  {
   "cell_type": "code",
   "execution_count": null,
   "id": "933fa942-31af-4e6f-ac91-c9edc0a220cb",
   "metadata": {
    "colab": {
     "base_uri": "https://localhost:8080/",
     "height": 452
    },
    "id": "933fa942-31af-4e6f-ac91-c9edc0a220cb",
    "outputId": "ce1c2502-2651-4683-d456-c28144c144c6",
    "tags": []
   },
   "outputs": [],
   "source": [
    "# Calculate the correlation\n",
    "correlation_matrix = portfolio_returns.corr()\n",
    "\n",
    "# Display de correlation matrix\n",
    "sns.heatmap(correlation_matrix, vmin=-1, vmax=1)"
   ]
  },
  {
   "cell_type": "code",
   "execution_count": null,
   "id": "683a2d48-75b9-4a6f-a867-bc1a99d59501",
   "metadata": {
    "colab": {
     "base_uri": "https://localhost:8080/"
    },
    "id": "683a2d48-75b9-4a6f-a867-bc1a99d59501",
    "outputId": "07645394-833f-4ba3-bd94-84f8c263401c",
    "tags": []
   },
   "outputs": [],
   "source": [
    "# Calculate the daily standard deviations of all portfolios\n",
    "portfolio_std = portfolio_returns.std()\n",
    "portfolio_std"
   ]
  },
  {
   "cell_type": "code",
   "execution_count": null,
   "id": "ca16626b-2922-4aaa-bb98-b5aab2e9ac0e",
   "metadata": {
    "colab": {
     "base_uri": "https://localhost:8080/"
    },
    "id": "ca16626b-2922-4aaa-bb98-b5aab2e9ac0e",
    "outputId": "97ae7ed4-37a7-4517-9065-9b3f30e683f8",
    "tags": []
   },
   "outputs": [],
   "source": [
    "# Calculate the daily standard deviation of S&P TSX 60\n",
    "sp_tsx_std = sptsx_return.std()\n",
    "\n",
    "# Determine which portfolios are riskier than the S&P TSX 60\n",
    "riskier_portfolios = {}\n",
    "\n",
    "# Calculate the standard deviation of all portfolios\n",
    "# Iterate over the portfolios\n",
    "for portfolio, std_dev in portfolio_std.iteritems():\n",
    "    # If the portfolio's standard deviation is greater than that of the S&P TSX 60\n",
    "    if std_dev > sp_tsx_std:\n",
    "        riskier_portfolios[portfolio] = std_dev\n",
    "\n",
    "# Convert the dictionary to a DataFrame for better visualization\n",
    "riskier_portfolios_df = pd.DataFrame(list(riskier_portfolios.items()), columns=['Portfolio', 'Std Dev'])\n",
    "\n",
    "print(riskier_portfolios_df)"
   ]
  },
  {
   "cell_type": "code",
   "execution_count": null,
   "id": "0ab4e080-4c86-4265-8f4f-353de73cf110",
   "metadata": {
    "colab": {
     "base_uri": "https://localhost:8080/"
    },
    "id": "0ab4e080-4c86-4265-8f4f-353de73cf110",
    "outputId": "8e1ea525-25c7-49aa-df5f-5aedb89591a4",
    "tags": []
   },
   "outputs": [],
   "source": [
    "# Calculate the annualized standard deviation (252 trading days)\n",
    "annualized_std = portfolio_std * np.sqrt(252)\n",
    "annualized_std"
   ]
  },
  {
   "cell_type": "code",
   "execution_count": null,
   "id": "986a7d54-21da-4dc4-9808-dde46daeb25e",
   "metadata": {
    "colab": {
     "base_uri": "https://localhost:8080/",
     "height": 461
    },
    "id": "986a7d54-21da-4dc4-9808-dde46daeb25e",
    "outputId": "d8078116-88a6-4aea-9738-7a1315f15b5b",
    "tags": []
   },
   "outputs": [],
   "source": [
    "# Calculate covariance of a single portfolio\n",
    "rolling_covariance = portfolio_returns['Tricon Residential'].rolling(window=60).cov(sptsx_return)\n",
    "# Calculate variance of S&P TSX\n",
    "\n",
    "rolling_variance = sptsx_return.rolling(window=60).var()\n",
    "\n",
    "# Computing beta\n",
    "rolling_beta = rolling_covariance.mean() / rolling_variance\n",
    "\n",
    "# Plot beta trend\n",
    "\n",
    "rolling_beta.plot(title='Rolling Beta for Tricon Residential')\n"
   ]
  },
  {
   "cell_type": "code",
   "execution_count": null,
   "id": "0dde6777-d82c-4a2d-99c8-de4ba34675bd",
   "metadata": {
    "colab": {
     "base_uri": "https://localhost:8080/",
     "height": 461
    },
    "id": "0dde6777-d82c-4a2d-99c8-de4ba34675bd",
    "outputId": "3d11a4fa-a4dd-4661-94c7-2f79038e9ea1",
    "tags": []
   },
   "outputs": [],
   "source": [
    "# Calculate covariance of a single portfolio\n",
    "rolling_covariance = portfolio_returns['RioCan Real Estate'].rolling(window=60).cov(sptsx_return)\n",
    "# Calculate variance of S&P TSX\n",
    "\n",
    "rolling_variance = sptsx_return.rolling(window=60).var()\n",
    "\n",
    "# Computing beta\n",
    "rolling_beta = rolling_covariance.mean() / rolling_variance\n",
    "\n",
    "# Plot beta trend\n",
    "\n",
    "rolling_beta.plot(title='Rolling Beta for RioCan Real Estate')\n"
   ]
  },
  {
   "cell_type": "markdown",
   "id": "5e195dcc",
   "metadata": {
    "id": "5e195dcc"
   },
   "source": [
    "Q5. Market Demand by Price Range: Which price range has the most absorbed units, indicating the highest demand in the market? How does this vary across different provinces?"
   ]
  },
  {
   "cell_type": "code",
   "execution_count": null,
   "id": "Ju4g4eX-zgZ-",
   "metadata": {
    "colab": {
     "base_uri": "https://localhost:8080/",
     "height": 718
    },
    "id": "Ju4g4eX-zgZ-",
    "outputId": "63e187f4-586d-44e6-aa7c-62a645d6e3c0",
    "tags": []
   },
   "outputs": [],
   "source": [
    "# Calculate the sum of absorbed units for each price range\n",
    "demand_data = canada_housing_data_df.groupby('Avg of Price Range')['Total Absorbed Units'].sum()\n",
    "\n",
    "# Find the price range with the highest demand\n",
    "highest_demand_price_range = demand_data.idxmax()\n",
    "\n",
    "# Calculate the demand for each price range in each province\n",
    "demand_by_province = canada_housing_data_df.groupby(['Province', 'Avg of Price Range'])['Total Absorbed Units'].sum().unstack()\n",
    "demand_by_province = demand_by_province.fillna(0)\n",
    "# Get the unique price ranges\n",
    "price_ranges = demand_by_province.columns\n",
    "\n",
    "# Get the total absorbed units for each province\n",
    "total_absorbed_units = demand_by_province.sum()\n",
    "\n",
    "# Set up the scatter plot\n",
    "fig, ax = plt.subplots(figsize=(12, 8))\n",
    "\n",
    "# Plotting the demand by price range across provinces using bubble markers\n",
    "for province in demand_by_province.index:\n",
    "    x = price_ranges\n",
    "    y = [province] * len(price_ranges)\n",
    "    sizes = demand_by_province.loc[province] / total_absorbed_units * 500\n",
    "    ax.scatter(x, y, s=sizes, alpha=0.7, label=province)\n",
    "\n",
    "# Customize the plot\n",
    "ax.set_title('Market Demand by Price Range across Provinces')\n",
    "ax.set_xlabel('Price Range')\n",
    "ax.set_ylabel('Province')\n",
    "ax.legend(title='Province')\n",
    "\n",
    "plt.show()\n"
   ]
  },
  {
   "cell_type": "markdown",
   "id": "bc0aec83",
   "metadata": {
    "id": "bc0aec83"
   },
   "source": [
    "Q6. Affordability Analysis: Based on the median household income in each province, which price ranges are realistically affordable to most families?"
   ]
  },
  {
   "cell_type": "code",
   "execution_count": null,
   "id": "20cedde6",
   "metadata": {
    "colab": {
     "base_uri": "https://localhost:8080/"
    },
    "id": "20cedde6",
    "outputId": "e8a8e8bb-7278-421e-9174-0f2518daec97",
    "tags": []
   },
   "outputs": [],
   "source": [
    "#Question 6\n",
    "#Q6. Based on the median household income in each province, which price ranges are realistically affordable to most families?\n",
    "def cal_affordable_price(row):\n",
    "    return row['Avg Income'] * 0.3 * 25\n",
    "\n",
    "avg_income_df['Affordable Price'] = avg_income_df.apply(cal_affordable_price, axis=1)\n",
    "avg_income_df = avg_income_df.reset_index().set_index(['Year', 'Province'])\n",
    "\n",
    "housing_price_df = housing_price_df.reset_index().set_index(['Year', 'Province'])\n",
    "affordable_house_df = pd.concat([housing_price_df, avg_income_df], join='inner', axis=1)\n",
    "\n",
    "for index in affordable_house_df.index.unique():\n",
    "    subset_df = affordable_house_df.loc[index]\n",
    "    province, year = index\n",
    "    aff_price = subset_df['Affordable Price']\n",
    "    single_price = subset_df['Weighted_Avg_Price_Single']\n",
    "    semi_price = subset_df['Weighted_Avg_Price_Semi']\n",
    "    row_price = subset_df['Weighted_Avg_Price_Row']\n",
    "    condo_price = subset_df['Weighted_Avg_Price_Apartment and other']\n",
    "\n",
    "    print(f\"For {province} in {year}:\")\n",
    "    print(\"Affordable Price Range: ${:,.2f}\".format(aff_price))\n",
    "    print(\"Affordable House Types:\")\n",
    "    if aff_price >= single_price:\n",
    "        print(\"   - Single House\")\n",
    "    if aff_price >= semi_price:\n",
    "        print(\"   - Semi House\")\n",
    "    if aff_price >= row_price:\n",
    "        print(\"   - Row House\")\n",
    "    if aff_price >= condo_price:\n",
    "        print(\"   - Apartment and other types\")\n",
    "    if aff_price < condo_price:\n",
    "        print(\"   - No Affordable House Types\")\n",
    "    print()\n"
   ]
  },
  {
   "cell_type": "markdown",
   "id": "f0181dc4-f77d-44c1-85c5-b7794e33f17d",
   "metadata": {
    "id": "f0181dc4-f77d-44c1-85c5-b7794e33f17d"
   },
   "source": [
    "Q7. Income Requirements for Home Ownership: Based on the absorbed units’ price range in each province, what is the estimated annual income required to afford housing? How does this compare across provinces, and how does it align with the actual median annual incomes in those provinces? Just use 2022"
   ]
  },
  {
   "cell_type": "code",
   "execution_count": null,
   "id": "2e5f56cc-aa83-4197-b360-c6374ef75944",
   "metadata": {
    "colab": {
     "base_uri": "https://localhost:8080/",
     "height": 473
    },
    "id": "2e5f56cc-aa83-4197-b360-c6374ef75944",
    "outputId": "e93f16ec-6d05-40f6-c46f-00dfc8f8f6f8",
    "tags": []
   },
   "outputs": [],
   "source": [
    "# Question7\n",
    "#filter out 2022 data\n",
    "affordable_house_2022=affordable_house_df.round(2).loc[2022]\n",
    "affordable_house_2022"
   ]
  },
  {
   "cell_type": "code",
   "execution_count": null,
   "id": "260f7a37",
   "metadata": {
    "colab": {
     "base_uri": "https://localhost:8080/"
    },
    "id": "260f7a37",
    "outputId": "a01a6d35-b16d-430c-a4b7-6fc9756699ec",
    "tags": []
   },
   "outputs": [],
   "source": [
    "# Filter out 2022 data\n",
    "affordable_house_2022 = affordable_house_df.loc[2022]\n",
    "\n",
    "# Iterate over each province\n",
    "for province in affordable_house_2022.index:\n",
    "    price_range = affordable_house_2022.loc[province].index[0]  # Assuming only one price range per province\n",
    "    estimated_income_required = affordable_house_2022.loc[province]['Affordable Price']\n",
    "    actual_median_income = affordable_house_2022.loc[province]['Avg Income']\n",
    "\n",
    "    print(f\"Province: {province}\")\n",
    "    print(f\"Price Range: {price_range}\")\n",
    "    print(f\"Estimated Annual Income Required: ${estimated_income_required:.2f}\")\n",
    "    print(f\"Actual Median Annual Income: ${actual_median_income:.2f}\")\n",
    "\n",
    "    # Compare affordability\n",
    "    if estimated_income_required <= actual_median_income:\n",
    "        print(\"Affordability Comparison: Affordable\")\n",
    "    else:\n",
    "        print(\"Affordability Comparison: Not Affordable\")\n",
    "\n",
    "    print()\n"
   ]
  },
  {
   "cell_type": "code",
   "execution_count": null,
   "id": "3800ca68",
   "metadata": {
    "colab": {
     "base_uri": "https://localhost:8080/",
     "height": 656
    },
    "id": "3800ca68",
    "outputId": "19bfaf59-f8ab-478c-c86b-57dfc249f4a5",
    "tags": []
   },
   "outputs": [],
   "source": [
    "# Filter out 2022 data\n",
    "affordable_house_2022 = affordable_house_df.loc[2022]\n",
    "\n",
    "# Prepare data for visualization\n",
    "provinces = affordable_house_2022.index\n",
    "estimated_incomes = affordable_house_2022['Affordable Price']\n",
    "actual_incomes = affordable_house_2022['Avg Income']\n",
    "\n",
    "# Set up the bar chart\n",
    "fig, ax = plt.subplots()\n",
    "width = 0.35  # Width of the bars\n",
    "\n",
    "# Plot the estimated incomes\n",
    "ax.bar(provinces, estimated_incomes, width, label='Estimated Income')\n",
    "\n",
    "# Plot the actual incomes\n",
    "ax.bar(provinces, actual_incomes, width, label='Actual Income')\n",
    "\n",
    "# Set the labels, title, and legend\n",
    "ax.set_xlabel('Province')\n",
    "ax.set_ylabel('Annual Income')\n",
    "ax.set_title('Income Requirements for Home Ownership - 2022')\n",
    "ax.legend()\n",
    "\n",
    "# Rotate the x-axis labels for better readability\n",
    "plt.xticks(rotation=90)\n",
    "\n",
    "# Display the chart\n",
    "plt.show()\n",
    "plt.savefig('plot.jpg')"
   ]
  },
  {
   "cell_type": "code",
   "execution_count": null,
   "id": "09e4f96f-7a6d-4f36-b047-e3ba0b4c51ee",
   "metadata": {},
   "outputs": [],
   "source": []
  },
  {
   "cell_type": "code",
   "execution_count": null,
   "id": "5545dc6f-78d8-48e5-b49a-cd20d8e36798",
   "metadata": {},
   "outputs": [],
   "source": []
  }
 ],
 "metadata": {
  "colab": {
   "provenance": []
  },
  "kernelspec": {
   "display_name": "Python 3 (ipykernel)",
   "language": "python",
   "name": "python3"
  },
  "language_info": {
   "codemirror_mode": {
    "name": "ipython",
    "version": 3
   },
   "file_extension": ".py",
   "mimetype": "text/x-python",
   "name": "python",
   "nbconvert_exporter": "python",
   "pygments_lexer": "ipython3",
   "version": "3.9.13"
  }
 },
 "nbformat": 4,
 "nbformat_minor": 5
}
