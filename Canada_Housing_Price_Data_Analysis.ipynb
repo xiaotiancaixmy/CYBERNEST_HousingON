{
 "cells": [
  {
   "cell_type": "code",
   "execution_count": null,
   "id": "449b2ef9-f524-4db1-9aa9-ab6b56379812",
   "metadata": {
    "colab": {
     "base_uri": "https://localhost:8080/",
     "height": 17
    },
    "id": "449b2ef9-f524-4db1-9aa9-ab6b56379812",
    "outputId": "f6336a11-30ec-4202-dfd5-3367d55fb5c3",
    "tags": []
   },
   "outputs": [],
   "source": [
    "# Initial imports\n",
    "import pandas as pd\n",
    "import numpy as np\n",
    "import hvplot.pandas\n",
    "import holoviews as hv\n",
    "from pathlib import Path\n",
    "import seaborn as sns\n",
    "from datetime import datetime\n",
    "import seaborn as sns\n",
    "import matplotlib.pyplot as plt\n",
    "%matplotlib inline\n",
    "import plotly.graph_objects as go\n",
    "from mortgage import Loan\n",
    "\n",
    "import warnings\n",
    "warnings.filterwarnings(\"ignore\")"
   ]
  },
  {
   "cell_type": "markdown",
   "id": "ce293c08-a83b-4630-a396-4a2eaf0ed1cd",
   "metadata": {
    "id": "ce293c08-a83b-4630-a396-4a2eaf0ed1cd"
   },
   "source": [
    "## Reading our data into dataFrames\n",
    "Data includes:\n",
    " * Latitude and Longitude of all Canada Provinces~ from [url](https://www.latlong.net/category/provinces-40-60.html).\n",
    " * Price range for houses in different provinces of Canada from excel file and avg household income per province using csv file.\n",
    " * Stock Prices data for *RioCan(REI-UN.TO)* Real Estate Investment Trust  & *Tricon Residential(TCN.TO)* a Canadian real estate company"
   ]
  },
  {
   "cell_type": "code",
   "execution_count": null,
   "id": "9feb4bd5-f82f-41bd-b045-43bb3c8c69e0",
   "metadata": {
    "id": "9feb4bd5-f82f-41bd-b045-43bb3c8c69e0",
    "tags": []
   },
   "outputs": [],
   "source": [
    "#Get the latitude and longitude valuse for Canada provinces using url\n",
    "lat_lon_df = pd.read_html(\"https://www.latlong.net/category/provinces-40-60.html\")"
   ]
  },
  {
   "cell_type": "code",
   "execution_count": null,
   "id": "6f560e88-cebb-4b77-8b7b-86193db75fa0",
   "metadata": {
    "colab": {
     "base_uri": "https://localhost:8080/",
     "height": 363
    },
    "id": "6f560e88-cebb-4b77-8b7b-86193db75fa0",
    "outputId": "2e07c228-ff49-4b5c-959e-354546ec9b90",
    "tags": []
   },
   "outputs": [],
   "source": [
    "#Converting our list into dataFrame\n",
    "lat_lon_df = pd.DataFrame(np.reshape(lat_lon_df, (10,3)), columns = ['Province', 'Latitude', 'Longitude'])\n",
    "#Remove the unwanted string from our columns\n",
    "lat_lon_df['Province'] = lat_lon_df['Province'].str.replace(', Canada', '')\n",
    "#Replace 'Saskatchewan Province' and 'Quebec Province'\n",
    "lat_lon_df['Province'] = lat_lon_df['Province'].replace({\n",
    "    'Saskatchewan Province': 'Saskatchewan',\n",
    "    'Quebec Province': 'Quebec'\n",
    "})\n",
    "#Display our latitude & longitude dataFrame\n",
    "lat_lon_df"
   ]
  },
  {
   "cell_type": "code",
   "execution_count": null,
   "id": "8f159ed5-e403-4e7d-abaf-aeee04756324",
   "metadata": {
    "id": "8f159ed5-e403-4e7d-abaf-aeee04756324",
    "tags": []
   },
   "outputs": [],
   "source": [
    "# Using the read_csv function and Path module\n",
    "# Create a absorbed_unit_df DataFrame by importing the\n",
    "#'absorbed-units-price-range-canada-provinces-for-all-dwelling-types-2019-2022-en.xlsx file' from the Resources folder\n",
    "absorbed_unit_df = pd.read_excel(Path(\"\"\"./Resources/absorbed-units-price-range-canada-provinces-for-all-dwelling-types-2019-2022-en.xlsx\"\"\"),\n",
    "                                header = 1,\n",
    "                                sheet_name =None)\n",
    "\n",
    "#Create dataFrame and import average household income for each province across years data\n",
    "avg_income_df = pd.read_csv(Path('./Resources/avg_household_income_canada.csv'))"
   ]
  },
  {
   "cell_type": "code",
   "execution_count": null,
   "id": "ac03de03-c176-49dd-ae65-0e74001039b8",
   "metadata": {
    "id": "ac03de03-c176-49dd-ae65-0e74001039b8",
    "tags": []
   },
   "outputs": [],
   "source": [
    "#Function to fethch the Province names from dictionary of DataFrames-absorbed_unit_df\n",
    "def getProvince(absorbed_unit_df):\n",
    "    province = []\n",
    "    for key in absorbed_unit_df.keys():\n",
    "        province.append(key)\n",
    "    return province"
   ]
  },
  {
   "cell_type": "code",
   "execution_count": null,
   "id": "6eedfbcc-654e-4f3e-bb41-29cc3b5d21f4",
   "metadata": {
    "colab": {
     "base_uri": "https://localhost:8080/",
     "height": 458
    },
    "id": "6eedfbcc-654e-4f3e-bb41-29cc3b5d21f4",
    "outputId": "7bc77c79-3d98-459f-b8d7-eb2a1df641ad",
    "tags": []
   },
   "outputs": [],
   "source": [
    "#Creating a DataFrame that contains all the housing data\n",
    "canada_housing_data_df = pd.DataFrame()\n",
    "for i in getProvince(absorbed_unit_df):\n",
    "    canada_housing_data_df = pd.concat([canada_housing_data_df,absorbed_unit_df[i]], axis = 0)\n",
    "\n",
    "#Set 'Year' as the index of the DataFrame\n",
    "canada_housing_data_df.set_index('Year', inplace = True)\n",
    "display(canada_housing_data_df.tail())"
   ]
  },
  {
   "cell_type": "code",
   "execution_count": null,
   "id": "47a52a37-f271-4b2b-af31-8bacaece395f",
   "metadata": {
    "colab": {
     "base_uri": "https://localhost:8080/"
    },
    "id": "47a52a37-f271-4b2b-af31-8bacaece395f",
    "outputId": "c02731f3-b92d-46cf-ea14-263a3a87926f",
    "tags": []
   },
   "outputs": [],
   "source": [
    "#Showing relevant years for analysis\n",
    "np.unique(canada_housing_data_df.index)"
   ]
  },
  {
   "cell_type": "code",
   "execution_count": null,
   "id": "28285c0f-d77e-40b2-8311-593ece7c6355",
   "metadata": {
    "id": "28285c0f-d77e-40b2-8311-593ece7c6355",
    "tags": []
   },
   "outputs": [],
   "source": [
    "#Fill NaN valuse with zero\n",
    "df1=canada_housing_data_df.fillna(value = 0)"
   ]
  },
  {
   "cell_type": "code",
   "execution_count": null,
   "id": "aacca345-0e23-4cc5-8178-285a9baef409",
   "metadata": {
    "colab": {
     "base_uri": "https://localhost:8080/",
     "height": 458
    },
    "id": "aacca345-0e23-4cc5-8178-285a9baef409",
    "outputId": "13eb3e57-4dc1-49a6-c905-0aaf0e4b638f",
    "tags": []
   },
   "outputs": [],
   "source": [
    "#Drop rows where all Dwelling Type Columns{ Absorbed Single, Semi, row & other} contain zeros\n",
    "canada_housing_data_df = canada_housing_data_df.loc[\n",
    "    (canada_housing_data_df[['Absorbed - Single','Absorbed - Semi','Absorbed - Row','Absorbed - Apartment and other']] != 0)\n",
    "    .any(axis = 1)\n",
    "]\n",
    "\n",
    "#Find the average price range and drop columns Price Range low($) & Price Range high($)\n",
    "#Calculate the Price Midpoint as 'Avg of Price Range'\n",
    "canada_housing_data_df['Avg of Price Range']= canada_housing_data_df[['Price Range low($)', 'Price Range high($)']].mean(axis=1)\n",
    "canada_housing_data_df.drop(['Price Range low($)', 'Price Range high($)'], axis = 1, inplace = True)\n",
    "\n",
    "#Disply sample data in the dataFrame\n",
    "display(canada_housing_data_df.tail())"
   ]
  },
  {
   "cell_type": "code",
   "execution_count": null,
   "id": "14fbb0e7-6876-4bf4-89b6-92bdd537899f",
   "metadata": {
    "id": "14fbb0e7-6876-4bf4-89b6-92bdd537899f",
    "tags": []
   },
   "outputs": [],
   "source": [
    "#Reorganize columns in canada_housing_data_df\n",
    "canada_housing_data_df=canada_housing_data_df.reindex(sorted(canada_housing_data_df.columns, reverse = True), axis=1)\n",
    "display(canada_housing_data_df.tail())"
   ]
  },
  {
   "cell_type": "code",
   "execution_count": null,
   "id": "3cbd89c1-11d0-4766-a066-9419fd629c6b",
   "metadata": {
    "colab": {
     "base_uri": "https://localhost:8080/",
     "height": 237
    },
    "id": "3cbd89c1-11d0-4766-a066-9419fd629c6b",
    "outputId": "90834710-15a6-4e26-800a-88a8c3d40a49",
    "tags": []
   },
   "outputs": [],
   "source": [
    "#Rename the columns\n",
    "new_column_names = {\n",
    "    'Absorbed - Single': 'Single',\n",
    "    'Absorbed - Semi': 'Semi',\n",
    "    'Absorbed - Row': 'Row',\n",
    "    'Absorbed - Apartment and other': 'Apartment and other',\n",
    "}\n",
    "\n",
    "canada_housing_data_df = canada_housing_data_df.rename(columns=new_column_names)\n",
    "canada_housing_data_df.tail(5)"
   ]
  },
  {
   "cell_type": "markdown",
   "id": "7a477b81-6818-4f77-bbe0-9433f45fbf23",
   "metadata": {
    "id": "7a477b81-6818-4f77-bbe0-9433f45fbf23"
   },
   "source": [
    "## Q1. Identify price trend in housing across different provinces in Canada over the yeras."
   ]
  },
  {
   "cell_type": "markdown",
   "id": "84eb495f-9b1c-439d-9514-4dd0b4294894",
   "metadata": {
    "id": "84eb495f-9b1c-439d-9514-4dd0b4294894"
   },
   "source": [
    "### Logic: Using Weighted Average Price for each house type\n",
    "\n",
    "In our data, we have different price ranges for each house type. To offer a more comprehensive view of the housing market trend, we took the weighted average price for each house type.\n",
    "\n",
    "For example:\n",
    "\n",
    "Weighted Average Price (Single-Family House, 2019)=\n",
    "\n",
    "[(# of unit from 1st price range in 2019 * midpoint price of 1st price range) / total unit in 2019] +\n",
    "\n",
    "[(# of unit from 2nd price range in 2019 * midpoint price of 2nd price range) / total unit in 2019] +\n",
    " \n",
    "... (so on for all price ranges)"
   ]
  },
  {
   "cell_type": "code",
   "execution_count": null,
   "id": "04b591e2-6ac4-417f-996e-d197a7fc1029",
   "metadata": {
    "id": "04b591e2-6ac4-417f-996e-d197a7fc1029",
    "tags": []
   },
   "outputs": [],
   "source": [
    "# Define dwelling types\n",
    "dwelling_types = ['Single', 'Semi', 'Row', 'Apartment and other']\n",
    "\n",
    "# Initialize an empty DataFrame\n",
    "housing_price_df = pd.DataFrame()\n",
    "\n",
    "# For Loop for each dwelling type\n",
    "for dwelling_type in dwelling_types:\n",
    "    # Calculate weighted price for each dwelling type\n",
    "    canada_housing_data_df[f'weighted_price_{dwelling_type}'] = canada_housing_data_df[f'{dwelling_type}'] * canada_housing_data_df['Avg of Price Range']\n",
    "\n",
    "    # Group by Province and Year and sum up the weighted price\n",
    "    weighted_price_grouped = canada_housing_data_df.groupby(['Province', 'Year'])[f'weighted_price_{dwelling_type}'].sum()\n",
    "\n",
    "    # Group by Province and Year and sum up the absorbed units\n",
    "    absorbed_units_grouped = canada_housing_data_df.groupby(['Province', 'Year'])[f'{dwelling_type}'].sum()\n",
    "\n",
    "    # Merge the two series into a DataFrame\n",
    "    merged = pd.DataFrame(weighted_price_grouped)\n",
    "    merged[f'{dwelling_type}'] = absorbed_units_grouped\n",
    "\n",
    "    # Calculate the weighted average price\n",
    "    merged[f'Weighted_Avg_Price_{dwelling_type}'] = merged[f'weighted_price_{dwelling_type}'] / merged[f'{dwelling_type}']\n",
    "\n",
    "    # Drop the intermediate columns\n",
    "    merged.drop([f'weighted_price_{dwelling_type}', f'{dwelling_type}'], axis=1, inplace=True)\n",
    "\n",
    "    # Merge the result into the housing_price_df DataFrame\n",
    "    if housing_price_df.empty:\n",
    "        housing_price_df = merged\n",
    "    else:\n",
    "        housing_price_df = pd.merge(housing_price_df, merged, on=['Province', 'Year'])\n",
    "\n",
    "#Reset index and round to 2 decimal\n",
    "housing_price_df = housing_price_df.reset_index().round(2)"
   ]
  },
  {
   "cell_type": "code",
   "execution_count": null,
   "id": "220617cb-3b4f-4f51-825d-d5c1a14d8bb2",
   "metadata": {
    "colab": {
     "base_uri": "https://localhost:8080/",
     "height": 206
    },
    "id": "220617cb-3b4f-4f51-825d-d5c1a14d8bb2",
    "outputId": "f68f4118-3724-4e9e-9ae0-90810f6de87b",
    "tags": []
   },
   "outputs": [],
   "source": [
    "housing_price_df.tail()"
   ]
  },
  {
   "cell_type": "code",
   "execution_count": null,
   "id": "90762498-de21-4615-8aa6-be13bf66e770",
   "metadata": {
    "id": "90762498-de21-4615-8aa6-be13bf66e770",
    "tags": []
   },
   "outputs": [],
   "source": [
    "# Define a function to plot trend for each dwelling type\n",
    "def plot_trend(dwelling_type):\n",
    "    # The melt function is used to convert the DataFrame from wide format to long format.\n",
    "    plot_df = pd.melt(housing_price_df, id_vars=['Year', 'Province'], value_vars=[f'Weighted_Avg_Price_{dwelling_type}'])\n",
    "\n",
    "    # Create a line plot of the WAP over years for each province using the hvplot library\n",
    "    trend_plot=plot_df.hvplot.line('Year', 'value', by='Province',width=800).opts(yformatter='%.0f',title=f'Price trend for {dwelling_type}')\n",
    "\n",
    "    return trend_plot"
   ]
  },
  {
   "cell_type": "code",
   "execution_count": null,
   "id": "68a2b684-20c5-496f-903a-8b8dab64cff1",
   "metadata": {
    "colab": {
     "base_uri": "https://localhost:8080/",
     "height": 17
    },
    "id": "68a2b684-20c5-496f-903a-8b8dab64cff1",
    "outputId": "f0aeb9f8-3281-4e26-e983-475395126ca7",
    "tags": []
   },
   "outputs": [],
   "source": [
    "# Reset the index of the housing_price_df dataframe\n",
    "housing_price_df.reset_index(inplace=True)\n",
    "\n",
    "#Plot Price Trend for all the dwelling type\n",
    "plot_trend('Single')+plot_trend('Semi')+plot_trend('Row')+plot_trend('Apartment and other')\n"
   ]
  },
  {
   "cell_type": "markdown",
   "id": "dd0ee163",
   "metadata": {
    "id": "dd0ee163"
   },
   "source": [
    "## Q2.Which province has experienced the most significant growth in housing prices?"
   ]
  },
  {
   "cell_type": "markdown",
   "id": "1efd1618-a1d8-4cda-80c0-b882e9324417",
   "metadata": {},
   "source": [
    "### Logic: Using Single-Family House price as reference for return on housing market.\n",
    "\n",
    "The data ('housing_price_df') includes the weighted average price for houses across different provinces in Canada. For the purposes of our analysis, we have decided to use the price of single houses as a reference point to gauge returns in the housing market. This decision was motivated by several factors.\n",
    "\n",
    "First, single houses are a common and popular type of residential property in Canada. They represent a significant portion of the housing market and thus serve as a reliable indicator of market trends.\n",
    "\n",
    "Second, by focusing on one specific type of property, we can control for variations in price that might occur due to differences in property type. This ensures that our analysis of housing returns is more consistent and reliable, as it won't be influenced by differences in the characteristics or demand for different types of properties."
   ]
  },
  {
   "cell_type": "code",
   "execution_count": null,
   "id": "07c6285b-2182-452f-b4ad-e59980d80699",
   "metadata": {
    "colab": {
     "base_uri": "https://localhost:8080/",
     "height": 237
    },
    "id": "07c6285b-2182-452f-b4ad-e59980d80699",
    "outputId": "f08014c1-d7aa-4ab4-d940-b473b649bd94",
    "tags": []
   },
   "outputs": [],
   "source": [
    "#Isolate price data for Single-Family House\n",
    "return_house_df=housing_price_df[['Year', 'Province','Weighted_Avg_Price_Single']].copy()\n",
    "return_house_df.set_index(['Year', 'Province'], inplace=True)\n",
    "\n",
    "#use 'pct_change' to calculate annual return\n",
    "return_house_df['Annual Return %']=return_house_df.groupby('Province')['Weighted_Avg_Price_Single'].pct_change()\n",
    "return_house_df['Annual Return %']=return_house_df['Annual Return %']*100\n",
    "\n",
    "return_house_df.tail()"
   ]
  },
  {
   "cell_type": "code",
   "execution_count": null,
   "id": "846c5bcf-cce6-4b45-adcc-a3c4d2f622cf",
   "metadata": {
    "colab": {
     "base_uri": "https://localhost:8080/",
     "height": 17
    },
    "id": "846c5bcf-cce6-4b45-adcc-a3c4d2f622cf",
    "outputId": "141666c2-19af-4915-f10e-c76b32478b0e",
    "tags": []
   },
   "outputs": [],
   "source": [
    "#Calculate and Plot Cumulative Growth Rate for Single-Family House over the past 4 years.\n",
    "CGR = ((return_house_df.loc[2022]['Weighted_Avg_Price_Single'] / return_house_df.loc[2019]['Weighted_Avg_Price_Single']) - 1)*100\n",
    "CGR_df = pd.DataFrame(CGR).rename(columns={\"Weighted_Avg_Price_Single\": \"Cumulative Return %\"})\n",
    "CGR_df.hvplot.bar(rot=30).opts(title=\"Cumulative growth for Single-Family House in the past 4 years\")"
   ]
  },
  {
   "cell_type": "code",
   "execution_count": null,
   "id": "e9e935dc-0bd8-4802-b99a-8d48b724795b",
   "metadata": {
    "colab": {
     "base_uri": "https://localhost:8080/",
     "height": 397
    },
    "id": "e9e935dc-0bd8-4802-b99a-8d48b724795b",
    "outputId": "905fb429-7c9b-4c28-d660-6899314ada47",
    "tags": []
   },
   "outputs": [],
   "source": [
    "#Plot annual return for Single-Family House over the years\n",
    "return_house_df['Annual Return %'].dropna().hvplot.bar(groupby='Year',rot=30,height=400)"
   ]
  },
  {
   "cell_type": "markdown",
   "id": "f647a961",
   "metadata": {
    "id": "f647a961"
   },
   "source": [
    "## Q3. What is the most popular type of house and its corresponding units sold in each province in 2022? "
   ]
  },
  {
   "cell_type": "code",
   "execution_count": null,
   "id": "2cdad34c-6608-41f2-9803-099a92e6713d",
   "metadata": {
    "id": "2cdad34c-6608-41f2-9803-099a92e6713d",
    "tags": []
   },
   "outputs": [],
   "source": [
    "#Reset the index of the dataframe `canada_housing_data_df`\n",
    "sales_house_df = canada_housing_data_df.reset_index()\n",
    "\n",
    "#Melt the dataframe `sales_house_df` to change its format from wide to long\n",
    "#So each row only contain one data point.\n",
    "sales_house_df = sales_house_df.melt(id_vars=['Year','Province', 'Avg of Price Range'],\n",
    "                                          value_vars=['Single', 'Semi', 'Row', 'Apartment and other'],\n",
    "                                          var_name='House Type',\n",
    "                                          value_name='Units Sold')"
   ]
  },
  {
   "cell_type": "code",
   "execution_count": null,
   "id": "d4611d2e-c893-4e89-af35-10d14385ed1d",
   "metadata": {
    "colab": {
     "base_uri": "https://localhost:8080/",
     "height": 206
    },
    "id": "d4611d2e-c893-4e89-af35-10d14385ed1d",
    "outputId": "77883959-3e6a-498c-bef0-8b3d6c554869",
    "tags": []
   },
   "outputs": [],
   "source": [
    "#Group the dataframe by 'Province', 'Year', 'House Type' and calculate the sum of 'Units Sold'\n",
    "grouped_sales_house_df=sales_house_df.groupby(['Province', 'Year', 'House Type'])['Units Sold'].sum().reset_index()\n",
    "grouped_sales_house_df.tail()"
   ]
  },
  {
   "cell_type": "code",
   "execution_count": null,
   "id": "14592f8e-19df-4025-a318-ffef50088d9c",
   "metadata": {
    "colab": {
     "base_uri": "https://localhost:8080/",
     "height": 1000
    },
    "id": "14592f8e-19df-4025-a318-ffef50088d9c",
    "outputId": "a5601580-0367-4198-f683-8dba87af5a05",
    "tags": []
   },
   "outputs": [],
   "source": [
    "#Find the index of maximum 'Units Sold' in each group\n",
    "idx = grouped_sales_house_df.groupby(['Province', 'Year'])['Units Sold'].idxmax()\n",
    "\n",
    "#Select the rows with the index of maximum 'Units Sold'\n",
    "most_popular_type_df=grouped_sales_house_df.loc[idx]\n",
    "most_popular_type_df.tail()"
   ]
  },
  {
   "cell_type": "code",
   "execution_count": null,
   "id": "b9de6038-b684-4578-9aef-7963f2f61736",
   "metadata": {},
   "outputs": [],
   "source": [
    "#Filter the dataframe to include only the data of the year 2022\n",
    "df=most_popular_type_df[most_popular_type_df['Year']==2022]\n",
    "\n",
    "#Merge the dataframe `df` with the dataframe `lat_lon_df` on 'Province'\n",
    "df=df.merge(lat_lon_df, on='Province', how='left')\n",
    "df"
   ]
  },
  {
   "cell_type": "code",
   "execution_count": null,
   "id": "27496416-ae7a-4be4-b495-d231d18264bd",
   "metadata": {},
   "outputs": [],
   "source": [
    "#Create a map plot using hvplot,\n",
    "#The more Units Sold, the bigger the circle\n",
    "#Different colors show different house type\n",
    "#Showing the circle at corresponding 'Longitude' and 'Latitude' on the map\n",
    "map_plot = df.hvplot.points(\n",
    "    'Longitude', \n",
    "    'Latitude', \n",
    "    geo=True, \n",
    "    size='Units Sold',\n",
    "    color='House Type',\n",
    "    frame_width=700,\n",
    "    frame_height=500,\n",
    "    title='Most popular house type by provinces',\n",
    "    scale=0.6\n",
    "    )"
   ]
  },
  {
   "cell_type": "code",
   "execution_count": null,
   "id": "277abc49-05d8-495e-b4e8-88bb703a3a04",
   "metadata": {},
   "outputs": [],
   "source": [
    "#Create a label plot using hvplot\n",
    "#Showing the 'Province' at corresponding 'Longitude' and 'Latitude' on the map\n",
    "label_plot=df.hvplot.labels(\n",
    "    'Longitude', \n",
    "    'Latitude', \n",
    "    text='Province',\n",
    "    geo=True, \n",
    "    color='white',\n",
    "    frame_width=700,\n",
    "    frame_height=500,\n",
    "    text_font_size='8pt',\n",
    "    text_alpha=0.5\n",
    "    )"
   ]
  },
  {
   "cell_type": "code",
   "execution_count": null,
   "id": "4ed39f1b-14ff-41b8-bb90-ee8ea9432a04",
   "metadata": {},
   "outputs": [],
   "source": [
    "#Use OpenStreetMap tiles as the base map\n",
    "tiles = hv.element.tiles.OSM().opts(alpha=0.5, width=700, height=500)\n",
    "\n",
    "#Overlay the map plot and the label plot on the tiles, and show the final plot\n",
    "final_plot = tiles*map_plot*label_plot\n",
    "final_plot"
   ]
  },
  {
   "cell_type": "markdown",
   "id": "5e195dcc",
   "metadata": {
    "id": "5e195dcc"
   },
   "source": [
    "canada_housing_data_df## Q4. Which price range demonstrates the highest market demand, indicated by the most absorbed units, and how does this demand vary across different provinces?"
   ]
  },
  {
   "cell_type": "code",
   "execution_count": null,
   "id": "Ju4g4eX-zgZ-",
   "metadata": {
    "colab": {
     "base_uri": "https://localhost:8080/",
     "height": 718
    },
    "id": "Ju4g4eX-zgZ-",
    "outputId": "63e187f4-586d-44e6-aa7c-62a645d6e3c0",
    "tags": []
   },
   "outputs": [],
   "source": [
    "#Calculate the total units sold in each provinces per year.\n",
    "canada_housing_data_df['Total Absorbed Units']=canada_housing_data_df[[\"Single\",\"Semi\",\"Row\",\"Apartment and other\"]].sum(axis=1)\n",
    "sum_of_sales=canada_housing_data_df.groupby(['Province','Year'])['Total Absorbed Units'].sum()\n",
    "\n",
    "# Calculate the sum of absorbed units for each price range\n",
    "demand_data = canada_housing_data_df.groupby('Avg of Price Range')['Total Absorbed Units'].sum()\n",
    "\n",
    "# Find the price range with the highest demand\n",
    "highest_demand_price_range = demand_data.idxmax()\n",
    "\n",
    "# Calculate the demand for each price range in each province\n",
    "demand_by_province = canada_housing_data_df.groupby(['Province', 'Avg of Price Range'])['Total Absorbed Units'].sum().unstack()\n",
    "demand_by_province = demand_by_province.fillna(0)\n",
    "# Get the unique price ranges\n",
    "price_ranges = demand_by_province.columns\n",
    "\n",
    "# Get the total absorbed units for each province\n",
    "total_absorbed_units = demand_by_province.sum()\n",
    "\n",
    "# Set up the scatter plot\n",
    "fig, ax = plt.subplots(figsize=(12, 8))\n",
    "\n",
    "# Plotting the demand by price range across provinces using bubble markers\n",
    "for province in demand_by_province.index:\n",
    "    x = price_ranges\n",
    "    y = [province] * len(price_ranges)\n",
    "    sizes = demand_by_province.loc[province] / total_absorbed_units * 500\n",
    "    ax.scatter(x, y, s=sizes, alpha=0.7, label=province)\n",
    "\n",
    "# Customize the plot\n",
    "ax.set_title('Market Demand by Price Range across Provinces')\n",
    "ax.set_xlabel('Price Range in Million($)')\n",
    "ax.set_ylabel('Province')\n",
    "ax.legend(title='Province')\n",
    "\n",
    "plt.show()"
   ]
  },
  {
   "cell_type": "markdown",
   "id": "bc0aec83",
   "metadata": {
    "id": "bc0aec83"
   },
   "source": [
    "## Q5. Given the average income for each province, what type of house can the average person or household realistically afford? How does this vary across different provinces?"
   ]
  },
  {
   "cell_type": "markdown",
   "id": "e9c2823e-0afb-4159-bb99-bba83ebafc48",
   "metadata": {},
   "source": [
    "We are most interested in the recent year (year 2022)."
   ]
  },
  {
   "cell_type": "code",
   "execution_count": null,
   "id": "20cedde6",
   "metadata": {
    "colab": {
     "base_uri": "https://localhost:8080/"
    },
    "id": "20cedde6",
    "outputId": "e8a8e8bb-7278-421e-9174-0f2518daec97",
    "tags": []
   },
   "outputs": [],
   "source": [
    "def cal_affordable_price(row):\n",
    "    return row['Avg Income'] * 0.3 * 25\n",
    "\n",
    "avg_income_df['Affordable Price'] = avg_income_df.apply(cal_affordable_price, axis=1)\n",
    "avg_income_df = avg_income_df.reset_index().set_index(['Year', 'Province'])\n",
    "\n",
    "housing_price_df = housing_price_df.reset_index().set_index(['Year', 'Province'])\n",
    "affordable_house_df = pd.concat([housing_price_df, avg_income_df], join='inner', axis=1)\n",
    "\n",
    "affordable_house_2022=affordable_house_df.loc[2022]"
   ]
  },
  {
   "cell_type": "code",
   "execution_count": null,
   "id": "e836e09b-4071-4be7-8bc9-243809847bc4",
   "metadata": {},
   "outputs": [],
   "source": [
    "fig = go.Figure()\n",
    "colors = {\"Single House\":\"blue\",\n",
    "          \"Semi House\":\"yellow\",\n",
    "          \"Row House\":\"green\",\n",
    "          \"Apartment and other types\":\"purple\",\n",
    "          \"Affordable Price\":\"red\"}\n",
    "\n",
    "# Iterate over each index in affordable_house_df\n",
    "for index in affordable_house_2022.index.unique():\n",
    "    subset_df = affordable_house_2022.loc[index]\n",
    "    province = index\n",
    "    aff_price = subset_df['Affordable Price']\n",
    "    single_price = subset_df['Weighted_Avg_Price_Single']\n",
    "    semi_price = subset_df['Weighted_Avg_Price_Semi']\n",
    "    row_price = subset_df['Weighted_Avg_Price_Row']\n",
    "    condo_price = subset_df['Weighted_Avg_Price_Apartment and other']\n",
    "\n",
    "    # Add a scatter plot for the affordable price range\n",
    "    fig.add_trace(go.Scatter(\n",
    "        x=[province],\n",
    "        y=[aff_price],\n",
    "        mode='markers',\n",
    "        marker=dict(size=10,color=colors['Affordable Price']),\n",
    "        text=[f\"Affordable Price: ${aff_price:,.2f}\"],\n",
    "        hovertemplate=\"%{text}\",\n",
    "        legendgroup='Affordable Price',\n",
    "        name='Affordable Price',\n",
    "        showlegend=province==affordable_house_2022.index.unique()[0]\n",
    "    ))\n",
    "\n",
    "    # Add a scatter plot for each type of house, not filtered by affordable price anymore\n",
    "    fig.add_trace(go.Scatter(\n",
    "        x=[province],\n",
    "        y=[single_price],\n",
    "        mode='markers',\n",
    "        marker=dict(size=10,color=colors['Single House']),\n",
    "        text=[\"Single House\"],\n",
    "        hovertemplate=\"%{text}\",\n",
    "        legendgroup='Single House',\n",
    "        name='Single House',\n",
    "        showlegend=province==affordable_house_2022.index.unique()[0]\n",
    "    ))\n",
    "    fig.add_trace(go.Scatter(\n",
    "        x=[province],\n",
    "        y=[semi_price],\n",
    "        mode='markers',\n",
    "        marker=dict(size=10, color=colors['Semi House']),\n",
    "        text=[\"Semi House\"],\n",
    "        hovertemplate=\"%{text}\",\n",
    "        legendgroup='Semi House',\n",
    "        name='Semi House',\n",
    "        showlegend=province==affordable_house_2022.index.unique()[0]\n",
    "    ))\n",
    "    fig.add_trace(go.Scatter(\n",
    "        x=[province],\n",
    "        y=[row_price],\n",
    "        mode='markers',\n",
    "        marker=dict(size=10, color=colors['Row House']),\n",
    "        text=[\"Row House\"],\n",
    "        hovertemplate=\"%{text}\",\n",
    "        legendgroup='Row House',\n",
    "        name='Row House',\n",
    "        showlegend=province==affordable_house_2022.index.unique()[0]\n",
    "    ))\n",
    "    fig.add_trace(go.Scatter(\n",
    "        x=[province],\n",
    "        y=[condo_price],\n",
    "        mode='markers',\n",
    "        marker=dict(size=10, color=colors['Apartment and other types']),\n",
    "        text=[\"Apartment and other types\"],\n",
    "        hovertemplate=\"%{text}\",\n",
    "        legendgroup='Apartment and other types',\n",
    "        name='Apartment and other types',\n",
    "        showlegend=province==affordable_house_2022.index.unique()[0]\n",
    "    ))\n",
    "\n",
    "\n",
    "# Update the layout of the figure for Affordable Price \n",
    "fig.update_layout(\n",
    "    title='Affordable Price vs. Housing Prices for Each Province 2022',\n",
    "    xaxis=dict(title='Province'),\n",
    "    yaxis=dict(title='Price'),\n",
    "    hovermode='closest',\n",
    "    height=700\n",
    ")\n",
    "\n",
    "# Show the plot\n",
    "fig.show()\n"
   ]
  },
  {
   "cell_type": "markdown",
   "id": "f0181dc4-f77d-44c1-85c5-b7794e33f17d",
   "metadata": {
    "id": "f0181dc4-f77d-44c1-85c5-b7794e33f17d"
   },
   "source": [
    "## Q6. Identify provinces in Canada where the user could potentially afford to buy a house, based on their personal financial situation."
   ]
  },
  {
   "cell_type": "code",
   "execution_count": null,
   "id": "2e5f56cc-aa83-4197-b360-c6374ef75944",
   "metadata": {
    "colab": {
     "base_uri": "https://localhost:8080/",
     "height": 473
    },
    "id": "2e5f56cc-aa83-4197-b360-c6374ef75944",
    "outputId": "e93f16ec-6d05-40f6-c46f-00dfc8f8f6f8",
    "tags": []
   },
   "outputs": [],
   "source": [
    "#Filter out year 2022 data\n",
    "affordable_house_2022=affordable_house_df.loc[2022]"
   ]
  },
  {
   "cell_type": "code",
   "execution_count": null,
   "id": "ccddd271-2f16-4e79-a52d-4c805a59c5f7",
   "metadata": {},
   "outputs": [],
   "source": [
    "def find_afforable_house():\n",
    "    #get user inputs\n",
    "    mortgage_rate=float(input(\"Enter your mortgage rate (e.g. for 5% enter 5):\") or 5)\n",
    "    mortgage_term=int(input(\"Enter your mortgage term/years (e.g. for 25 years enter 25):\") or 25)\n",
    "    down_payment_percent=float(input(\"Enter your down payment as percentage (e.g. for 20% enter 20):\") or 20)\n",
    "    income=int(input(\"Enter your income (e.g. for $50000 enter 50000):\") or 50000)\n",
    "\n",
    "    mortgage_rate=mortgage_rate/100\n",
    "    down_payment_percent=down_payment_percent/100\n",
    "\n",
    "    affordable_provinces=[]\n",
    "    for province in affordable_house_2022.index.unique():\n",
    "        for house_type in dwelling_types:\n",
    "            house_price=affordable_house_2022[f'Weighted_Avg_Price_{house_type}'].values[0]\n",
    "\n",
    "            principal = house_price * (1-down_payment_percent)\n",
    "            loan = Loan(principal=principal, interest=mortgage_rate, term=mortgage_term)\n",
    "\n",
    "            required_income=float(loan.monthly_payment)*12/0.3 #spend 30% on mortgage\n",
    "\n",
    "            if income>=required_income:\n",
    "                affordable_provinces.append((province,house_type))\n",
    "\n",
    "    if affordable_provinces:\n",
    "        print(\"You can afford a house in the following provinces:\")\n",
    "        for province,house_type in affordable_provinces:\n",
    "            print(f\"-{province} ({house_type})\")\n",
    "    else:\n",
    "        print(\"Based on your input, You are too poor to afford a house in Canada.\")"
   ]
  },
  {
   "cell_type": "code",
   "execution_count": null,
   "id": "2fb7f47a-acdf-4e3d-98d8-a6e97f17ff7f",
   "metadata": {},
   "outputs": [],
   "source": [
    "find_afforable_house()"
   ]
  },
  {
   "cell_type": "markdown",
   "id": "89861f8a-4e74-4f61-b71b-89e74d81bc59",
   "metadata": {},
   "source": [
    "## Q7. How have the real estate-related stocks performed over the past 4 year? What is the stock beta for selected real estate and construction companies, and how does it contribute to our understanding of their risk profiles and market performances?"
   ]
  },
  {
   "cell_type": "code",
   "execution_count": null,
   "id": "cc9a729f-06cc-43e3-ae1b-b60e56e505e2",
   "metadata": {
    "colab": {
     "base_uri": "https://localhost:8080/",
     "height": 394
    },
    "id": "cc9a729f-06cc-43e3-ae1b-b60e56e505e2",
    "outputId": "bef54aaa-235b-4a5d-94b9-ad710469170a",
    "tags": []
   },
   "outputs": [],
   "source": [
    "# Reading REI.UN\n",
    "REI_UN_csv = Path(\"Resources\",\"REI.UN.csv\")\n",
    "REI_UN_df = pd.read_csv(REI_UN_csv, index_col=\"Date\", parse_dates=True)\n",
    "REI_UN_df.sort_index()\n",
    "REI_UN_df.head(10)"
   ]
  },
  {
   "cell_type": "code",
   "execution_count": null,
   "id": "c56fede0-453a-4854-b90e-57b7e62c1aa0",
   "metadata": {},
   "outputs": [],
   "source": [
    "# Calculate Daily Returns\n",
    "REI_UN_returns =REI_UN_df['Close'].pct_change().dropna()\n",
    "\n",
    "REI_UN_returns.name = 'RioCan Real Estate'\n",
    "\n",
    "display(REI_UN_returns.head())"
   ]
  },
  {
   "cell_type": "code",
   "execution_count": null,
   "id": "96ca03cb-4221-4226-8638-680f422978fa",
   "metadata": {
    "colab": {
     "base_uri": "https://localhost:8080/",
     "height": 394
    },
    "id": "96ca03cb-4221-4226-8638-680f422978fa",
    "outputId": "24f355d7-045f-46dc-c8b5-619706b07144",
    "tags": []
   },
   "outputs": [],
   "source": [
    "# Reading TCN.TO\n",
    "TCN_TO_csv = Path(\"Resources\",\"TCN.TO.csv\")\n",
    "TCN_TO_dF = pd.read_csv(TCN_TO_csv, index_col=\"Date\", parse_dates=True)\n",
    "TCN_TO_dF.sort_index()\n",
    "TCN_TO_dF.head(10)"
   ]
  },
  {
   "cell_type": "code",
   "execution_count": null,
   "id": "7b58735e-883e-4618-8e23-31abc6976ee7",
   "metadata": {
    "colab": {
     "base_uri": "https://localhost:8080/",
     "height": 138
    },
    "id": "7b58735e-883e-4618-8e23-31abc6976ee7",
    "outputId": "1617a0c0-c17a-4a4f-fb07-e9483ffdbd33",
    "tags": []
   },
   "outputs": [],
   "source": [
    "# Calculate Daily Returns\n",
    "TCN_TO_returns =TCN_TO_dF['Close'].pct_change().dropna()\n",
    "TCN_TO_returns.name = 'Tricon Residential'\n",
    "display(TCN_TO_returns.head())"
   ]
  },
  {
   "cell_type": "code",
   "execution_count": null,
   "id": "68082951-7e2c-4ae3-8244-f85a3642bae5",
   "metadata": {
    "colab": {
     "base_uri": "https://localhost:8080/",
     "height": 394
    },
    "id": "68082951-7e2c-4ae3-8244-f85a3642bae5",
    "outputId": "d5eaee51-53f6-4da2-9d6d-a85b09142d5e",
    "tags": []
   },
   "outputs": [],
   "source": [
    "# Reading sp 500 tsx\n",
    "sptsx_csv = Path(\"Resources\",\"sptsx.csv\")\n",
    "sptsx_dF = pd.read_csv(sptsx_csv, index_col=\"Date\", parse_dates=True)\n",
    "sptsx_dF.sort_index()\n",
    "sptsx_dF.head(10)"
   ]
  },
  {
   "cell_type": "code",
   "execution_count": null,
   "id": "3945f723-784d-4c60-a3b9-15296cd7a0af",
   "metadata": {
    "colab": {
     "base_uri": "https://localhost:8080/",
     "height": 237
    },
    "id": "3945f723-784d-4c60-a3b9-15296cd7a0af",
    "outputId": "a8919df4-6ad3-4607-d6d3-ae741eeebf90",
    "tags": []
   },
   "outputs": [],
   "source": [
    "# Calculate Daily Returns\n",
    "sptsx_return =sptsx_dF['Close'].pct_change().dropna()\n",
    "sptsx_return.name = 'sp tsx'\n",
    "display(sptsx_dF.head())"
   ]
  },
  {
   "cell_type": "code",
   "execution_count": null,
   "id": "f2dc2748-bc3d-434b-a58d-63fd28f902a6",
   "metadata": {
    "colab": {
     "base_uri": "https://localhost:8080/",
     "height": 394
    },
    "id": "f2dc2748-bc3d-434b-a58d-63fd28f902a6",
    "outputId": "73b55556-2c83-473d-c355-b17051ebcddd",
    "tags": []
   },
   "outputs": [],
   "source": [
    "portfolio_returns = pd.concat([REI_UN_returns, TCN_TO_returns, sptsx_return], axis=\"columns\", join=\"inner\")\n",
    "portfolio_returns = portfolio_returns.sort_index()\n",
    "portfolio_returns.tail(10)"
   ]
  },
  {
   "cell_type": "code",
   "execution_count": null,
   "id": "646a6847-8a4f-4a80-a5a8-b2e8ae82631f",
   "metadata": {
    "colab": {
     "base_uri": "https://localhost:8080/",
     "height": 439
    },
    "id": "646a6847-8a4f-4a80-a5a8-b2e8ae82631f",
    "outputId": "dbf978e5-9b6c-42d0-85c4-7a3fabaa58e7",
    "tags": []
   },
   "outputs": [],
   "source": [
    "# Plot daily returns of all portfolios\n",
    "portfolio_returns.plot()"
   ]
  },
  {
   "cell_type": "code",
   "execution_count": null,
   "id": "b90c1a44-2cda-433d-8481-abaa83e9e6fb",
   "metadata": {
    "colab": {
     "base_uri": "https://localhost:8080/",
     "height": 461
    },
    "id": "b90c1a44-2cda-433d-8481-abaa83e9e6fb",
    "outputId": "8a487c4a-94f8-4666-da5f-818445f6a1ea",
    "tags": []
   },
   "outputs": [],
   "source": [
    "# Calculate cumulative returns of all portfolios\n",
    "\n",
    "cumulative_returns = (1 + portfolio_returns).cumprod()\n",
    "# Plot cumulative returns\n",
    "cumulative_returns.plot(title=\"Cumulative Returns of All Portfolios\")"
   ]
  },
  {
   "cell_type": "code",
   "execution_count": null,
   "id": "fbe2eeb5-a5c2-4f16-9795-0eddd3d8e0e7",
   "metadata": {
    "colab": {
     "base_uri": "https://localhost:8080/",
     "height": 143
    },
    "id": "fbe2eeb5-a5c2-4f16-9795-0eddd3d8e0e7",
    "outputId": "06fb9768-d027-4d1d-a114-a4ba8e143b4b",
    "tags": []
   },
   "outputs": [],
   "source": [
    "correlation = cumulative_returns.corr()\n",
    "correlation"
   ]
  },
  {
   "cell_type": "code",
   "execution_count": null,
   "id": "933fa942-31af-4e6f-ac91-c9edc0a220cb",
   "metadata": {
    "colab": {
     "base_uri": "https://localhost:8080/",
     "height": 452
    },
    "id": "933fa942-31af-4e6f-ac91-c9edc0a220cb",
    "outputId": "ce1c2502-2651-4683-d456-c28144c144c6",
    "tags": []
   },
   "outputs": [],
   "source": [
    "# Calculate the correlation\n",
    "correlation_matrix = portfolio_returns.corr()\n",
    "\n",
    "# Display the correlation matrix\n",
    "sns.heatmap(correlation_matrix, vmin=-1, vmax=1)"
   ]
  },
  {
   "cell_type": "code",
   "execution_count": null,
   "id": "683a2d48-75b9-4a6f-a867-bc1a99d59501",
   "metadata": {
    "colab": {
     "base_uri": "https://localhost:8080/"
    },
    "id": "683a2d48-75b9-4a6f-a867-bc1a99d59501",
    "outputId": "07645394-833f-4ba3-bd94-84f8c263401c",
    "tags": []
   },
   "outputs": [],
   "source": [
    "# Calculate the daily standard deviations of all portfolios\n",
    "portfolio_std = portfolio_returns.std()\n",
    "portfolio_std"
   ]
  },
  {
   "cell_type": "code",
   "execution_count": null,
   "id": "ca16626b-2922-4aaa-bb98-b5aab2e9ac0e",
   "metadata": {
    "colab": {
     "base_uri": "https://localhost:8080/"
    },
    "id": "ca16626b-2922-4aaa-bb98-b5aab2e9ac0e",
    "outputId": "97ae7ed4-37a7-4517-9065-9b3f30e683f8",
    "tags": []
   },
   "outputs": [],
   "source": [
    "# Calculate the daily standard deviation of S&P TSX 60\n",
    "sp_tsx_std = sptsx_return.std()\n",
    "\n",
    "# Determine which portfolios are riskier than the S&P TSX 60\n",
    "riskier_portfolios = {}\n",
    "\n",
    "# Calculate the standard deviation of all portfolios\n",
    "# Iterate over the portfolios\n",
    "for portfolio, std_dev in portfolio_std.iteritems():\n",
    "    # If the portfolio's standard deviation is greater than that of the S&P TSX 60\n",
    "    if std_dev > sp_tsx_std:\n",
    "        riskier_portfolios[portfolio] = std_dev\n",
    "\n",
    "# Convert the dictionary to a DataFrame for better visualization\n",
    "riskier_portfolios_df = pd.DataFrame(list(riskier_portfolios.items()), columns=['Portfolio', 'Std Dev'])\n",
    "\n",
    "print(riskier_portfolios_df)"
   ]
  },
  {
   "cell_type": "code",
   "execution_count": null,
   "id": "0ab4e080-4c86-4265-8f4f-353de73cf110",
   "metadata": {
    "colab": {
     "base_uri": "https://localhost:8080/"
    },
    "id": "0ab4e080-4c86-4265-8f4f-353de73cf110",
    "outputId": "8e1ea525-25c7-49aa-df5f-5aedb89591a4",
    "tags": []
   },
   "outputs": [],
   "source": [
    "# Calculate the annualized standard deviation (252 trading days)\n",
    "annualized_std = portfolio_std * np.sqrt(252)\n",
    "annualized_std"
   ]
  },
  {
   "cell_type": "code",
   "execution_count": null,
   "id": "986a7d54-21da-4dc4-9808-dde46daeb25e",
   "metadata": {
    "colab": {
     "base_uri": "https://localhost:8080/",
     "height": 461
    },
    "id": "986a7d54-21da-4dc4-9808-dde46daeb25e",
    "outputId": "d8078116-88a6-4aea-9738-7a1315f15b5b",
    "tags": []
   },
   "outputs": [],
   "source": [
    "# Calculate covariance of a single portfolio\n",
    "rolling_covariance = portfolio_returns['Tricon Residential'].rolling(window=60).cov(sptsx_return)\n",
    "# Calculate variance of S&P TSX\n",
    "\n",
    "rolling_variance = sptsx_return.rolling(window=60).var()\n",
    "\n",
    "# Computing beta\n",
    "rolling_beta = rolling_covariance.mean() / rolling_variance\n",
    "\n",
    "# Plot beta trend\n",
    "\n",
    "rolling_beta.plot(title='Rolling Beta for Tricon Residential')\n"
   ]
  },
  {
   "cell_type": "code",
   "execution_count": null,
   "id": "0dde6777-d82c-4a2d-99c8-de4ba34675bd",
   "metadata": {
    "colab": {
     "base_uri": "https://localhost:8080/",
     "height": 461
    },
    "id": "0dde6777-d82c-4a2d-99c8-de4ba34675bd",
    "outputId": "3d11a4fa-a4dd-4661-94c7-2f79038e9ea1",
    "tags": []
   },
   "outputs": [],
   "source": [
    "# Calculate covariance of a single portfolio\n",
    "rolling_covariance = portfolio_returns['RioCan Real Estate'].rolling(window=60).cov(sptsx_return)\n",
    "\n",
    "# Calculate variance of S&P TSX\n",
    "rolling_variance = sptsx_return.rolling(window=60).var()\n",
    "\n",
    "# Computing beta\n",
    "rolling_beta = rolling_covariance.mean() / rolling_variance\n",
    "\n",
    "# Plot beta trend\n",
    "rolling_beta.plot(title='Rolling Beta for RioCan Real Estate')"
   ]
  }
 ],
 "metadata": {
  "colab": {
   "provenance": []
  },
  "kernelspec": {
   "display_name": "Python 3 (ipykernel)",
   "language": "python",
   "name": "python3"
  },
  "language_info": {
   "codemirror_mode": {
    "name": "ipython",
    "version": 3
   },
   "file_extension": ".py",
   "mimetype": "text/x-python",
   "name": "python",
   "nbconvert_exporter": "python",
   "pygments_lexer": "ipython3",
   "version": "3.9.13"
  }
 },
 "nbformat": 4,
 "nbformat_minor": 5
}
